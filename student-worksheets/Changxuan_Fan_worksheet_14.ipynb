{
 "cells": [
  {
   "attachments": {},
   "cell_type": "markdown",
   "metadata": {},
   "source": [
    "# Worksheet 14\n",
    "\n",
    "Name:  \n",
    "UID: \n",
    "\n",
    "### Topics\n",
    "\n",
    "- Naive Bayes\n",
    "- Model Evaluation\n",
    "\n",
    "### Naive Bayes\n",
    "\n",
    "| Attribute A | Attribute B | Attribute C | Class |\n",
    "|-------------|-------------|-------------|-------|\n",
    "| Yes         | Single      | High        | No    |\n",
    "| No          | Married     | Mid         | No    |\n",
    "| No          | Single      | Low         | No    |\n",
    "| Yes         | Married     | High        | No    |\n",
    "| No          | Divorced    | Mid         | Yes   |\n",
    "| No          | Married     | Low         | No    |\n",
    "| Yes         | Divorced    | High        | No    |\n",
    "| No          | Single      | Mid         | Yes   |\n",
    "| No          | Married     | Low         | No    |\n",
    "| No          | Single      | Mid         | Yes   |\n",
    "\n",
    "a) Compute the following probabilities:\n",
    "\n",
    "- P(Attribute A = Yes | Class = No)\n",
    "- P(Attribute B = Divorced | Class = Yes)\n",
    "- P(Attribute C = High | Class = No)\n",
    "- P(Attribute C = Mid | Class = Yes)"
   ]
  },
  {
   "cell_type": "markdown",
   "metadata": {},
   "source": [
    "3/7\n",
    "1/3\n",
    "3/7\n",
    "1"
   ]
  },
  {
   "cell_type": "markdown",
   "metadata": {},
   "source": [
    "b) Classify the following unseen records:\n",
    "\n",
    "- (Yes, Married, Mid)\n",
    "- (No, Divorced, High)\n",
    "- (No, Single, High)\n",
    "- (No, Divorced, Low)"
   ]
  },
  {
   "cell_type": "markdown",
   "metadata": {},
   "source": [
    "(Yes, Married, Mid): Class is \"No.\"\n",
    "(No, Divorced, High): Class is \"No.\"\n",
    "(No, Single, High): Class is \"No.\"\n",
    "(No, Divorced, Low): Class is \"Yes.\""
   ]
  },
  {
   "cell_type": "markdown",
   "metadata": {},
   "source": [
    "### Model Evaluation\n",
    "\n",
    "a) Write a function to generate the confusion matrix for a list of actual classes and a list of predicted classes"
   ]
  },
  {
   "cell_type": "code",
   "execution_count": 1,
   "metadata": {},
   "outputs": [
    {
     "name": "stdout",
     "output_type": "stream",
     "text": [
      "{'True Positives (TP)': 2, 'True Negatives (TN)': 4, 'False Positives (FP)': 3, 'False Negatives (FN)': 1}\n"
     ]
    }
   ],
   "source": [
    "def confusion_matrix(actual, predicted):\n",
    "    if len(actual) != len(predicted):\n",
    "        raise ValueError(\"Input lists must have the same length\")\n",
    "\n",
    "    # Initialize variables to count TP, TN, FP, and FN\n",
    "    TP = TN = FP = FN = 0\n",
    "\n",
    "    for a, p in zip(actual, predicted):\n",
    "        if a == \"Yes\" and p == \"Yes\":\n",
    "            TP += 1\n",
    "        elif a == \"No\" and p == \"No\":\n",
    "            TN += 1\n",
    "        elif a == \"No\" and p == \"Yes\":\n",
    "            FP += 1\n",
    "        elif a == \"Yes\" and p == \"No\":\n",
    "            FN += 1\n",
    "\n",
    "    # Create and return the confusion matrix as a dictionary\n",
    "    confusion_matrix = {\n",
    "        \"True Positives (TP)\": TP,\n",
    "        \"True Negatives (TN)\": TN,\n",
    "        \"False Positives (FP)\": FP,\n",
    "        \"False Negatives (FN)\": FN,\n",
    "    }\n",
    "    \n",
    "    return confusion_matrix\n",
    "\n",
    "actual_class = [\"Yes\", \"No\", \"No\", \"Yes\", \"No\", \"No\", \"Yes\", \"No\", \"No\", \"No\"]\n",
    "predicted_class = [\"Yes\", \"No\", \"Yes\", \"No\", \"No\", \"No\", \"Yes\", \"Yes\", \"Yes\", \"No\"]\n",
    "\n",
    "print(confusion_matrix(actual_class, predicted_class))\n"
   ]
  },
  {
   "cell_type": "markdown",
   "metadata": {},
   "source": [
    "b) Assume you have the following Cost Matrix:\n",
    "\n",
    "|            | predicted = Y | predicted = N |\n",
    "|------------|---------------|---------------|\n",
    "| actual = Y |       -1      |       5       |\n",
    "| actual = N |        10     |       0       |\n",
    "\n",
    "What is the cost of the above classification?"
   ]
  },
  {
   "cell_type": "markdown",
   "metadata": {},
   "source": [
    "Cost = (2 * -1 + 3 * 0 + 3 * 5 + 2 * 10)\n",
    "Cost = (-2 + 0 + 15 + 20)\n",
    "Cost = 33\n",
    "\n",
    "So, the cost of the classification is 33."
   ]
  },
  {
   "cell_type": "markdown",
   "metadata": {},
   "source": [
    "c) Write a function that takes in the actual values, the predictions, and a cost matrix and outputs a cost. Test it on the above example."
   ]
  },
  {
   "cell_type": "code",
   "execution_count": 2,
   "metadata": {},
   "outputs": [
    {
     "name": "stdout",
     "output_type": "stream",
     "text": [
      "Classification Cost: 23\n"
     ]
    }
   ],
   "source": [
    "def calculate_classification_cost(actual, predicted, cost_matrix):\n",
    "    if len(actual) != len(predicted):\n",
    "        raise ValueError(\"Input lists must have the same length\")\n",
    "\n",
    "    # Initialize variables to count TP, TN, FP, and FN\n",
    "    TP = TN = FP = FN = 0\n",
    "\n",
    "    for a, p in zip(actual, predicted):\n",
    "        if a == \"Yes\" and p == \"Yes\":\n",
    "            TP += 1\n",
    "        elif a == \"No\" and p == \"No\":\n",
    "            TN += 1\n",
    "        elif a == \"No\" and p == \"Yes\":\n",
    "            FP += 1\n",
    "        elif a == \"Yes\" and p == \"No\":\n",
    "            FN += 1\n",
    "\n",
    "    # Calculate the cost using the cost matrix\n",
    "    cost = (TP * cost_matrix[\"actual=Y_predicted=Y\"] +\n",
    "            TN * cost_matrix[\"actual=N_predicted=N\"] +\n",
    "            FP * cost_matrix[\"actual=N_predicted=Y\"] +\n",
    "            FN * cost_matrix[\"actual=Y_predicted=N\"])\n",
    "\n",
    "    return cost\n",
    "\n",
    "actual_class = [\"Yes\", \"No\", \"No\", \"Yes\", \"No\", \"No\", \"Yes\", \"No\", \"No\", \"No\"]\n",
    "predicted_class = [\"Yes\", \"No\", \"Yes\", \"No\", \"No\", \"No\", \"Yes\", \"Yes\", \"Yes\", \"No\"]\n",
    "\n",
    "cost_matrix = {\n",
    "    \"actual=Y_predicted=Y\": -1,\n",
    "    \"actual=N_predicted=N\": 0,\n",
    "    \"actual=N_predicted=Y\": 5,\n",
    "    \"actual=Y_predicted=N\": 10,\n",
    "}\n",
    "\n",
    "cost = calculate_classification_cost(actual_class, predicted_class, cost_matrix)\n",
    "print(\"Classification Cost:\", cost)\n"
   ]
  },
  {
   "cell_type": "markdown",
   "metadata": {},
   "source": [
    "d) Implement functions for the following:\n",
    "\n",
    "- accuracy\n",
    "- precision\n",
    "- recall\n",
    "- f-measure\n",
    "\n",
    "and apply them to the above example."
   ]
  },
  {
   "cell_type": "code",
   "execution_count": 3,
   "metadata": {},
   "outputs": [
    {
     "name": "stdout",
     "output_type": "stream",
     "text": [
      "Accuracy: 0.6\n",
      "Precision: 0.4\n",
      "Recall: 0.6666666666666666\n",
      "F-Measure: 0.5\n"
     ]
    }
   ],
   "source": [
    "def accuracy(actual, predicted):\n",
    "    if len(actual) != len(predicted):\n",
    "        raise ValueError(\"Input lists must have the same length\")\n",
    "    \n",
    "    correct = sum(1 for a, p in zip(actual, predicted) if a == p)\n",
    "    total = len(actual)\n",
    "    \n",
    "    return correct / total\n",
    "\n",
    "def precision(actual, predicted):\n",
    "    TP = sum(1 for a, p in zip(actual, predicted) if a == \"Yes\" and p == \"Yes\")\n",
    "    FP = sum(1 for a, p in zip(actual, predicted) if a == \"No\" and p == \"Yes\")\n",
    "    \n",
    "    if TP + FP == 0:\n",
    "        return 0\n",
    "    \n",
    "    return TP / (TP + FP)\n",
    "\n",
    "def recall(actual, predicted):\n",
    "    TP = sum(1 for a, p in zip(actual, predicted) if a == \"Yes\" and p == \"Yes\")\n",
    "    FN = sum(1 for a, p in zip(actual, predicted) if a == \"Yes\" and p == \"No\")\n",
    "    \n",
    "    if TP + FN == 0:\n",
    "        return 0\n",
    "    \n",
    "    return TP / (TP + FN)\n",
    "\n",
    "def f_measure(actual, predicted, beta=1):\n",
    "    precision_val = precision(actual, predicted)\n",
    "    recall_val = recall(actual, predicted)\n",
    "    \n",
    "    if precision_val + recall_val == 0:\n",
    "        return 0\n",
    "    \n",
    "    f = (1 + beta**2) * (precision_val * recall_val) / ((beta**2 * precision_val) + recall_val)\n",
    "    return f\n",
    "\n",
    "actual_class = [\"Yes\", \"No\", \"No\", \"Yes\", \"No\", \"No\", \"Yes\", \"No\", \"No\", \"No\"]\n",
    "predicted_class = [\"Yes\", \"No\", \"Yes\", \"No\", \"No\", \"No\", \"Yes\", \"Yes\", \"Yes\", \"No\"]\n",
    "\n",
    "print(\"Accuracy:\", accuracy(actual_class, predicted_class))\n",
    "print(\"Precision:\", precision(actual_class, predicted_class))\n",
    "print(\"Recall:\", recall(actual_class, predicted_class))\n",
    "print(\"F-Measure:\", f_measure(actual_class, predicted_class))\n"
   ]
  }
 ],
 "metadata": {
  "kernelspec": {
   "display_name": "Python 3",
   "language": "python",
   "name": "python3"
  },
  "language_info": {
   "codemirror_mode": {
    "name": "ipython",
    "version": 3
   },
   "file_extension": ".py",
   "mimetype": "text/x-python",
   "name": "python",
   "nbconvert_exporter": "python",
   "pygments_lexer": "ipython3",
   "version": "3.9.7"
  },
  "orig_nbformat": 4,
  "vscode": {
   "interpreter": {
    "hash": "e7370f93d1d0cde622a1f8e1c04877d8463912d04d973331ad4851f04de6915a"
   }
  }
 },
 "nbformat": 4,
 "nbformat_minor": 2
}
