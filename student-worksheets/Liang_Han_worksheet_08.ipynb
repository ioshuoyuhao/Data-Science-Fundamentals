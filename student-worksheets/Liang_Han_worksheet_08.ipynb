{
 "cells": [
  {
   "attachments": {},
   "cell_type": "markdown",
   "metadata": {},
   "source": [
    "# Worksheet 08\n",
    "\n",
    "Name:  Liang Han\n",
    "UID: U86104920\n",
    "\n",
    "### Topics\n",
    "\n",
    "- Soft Clustering\n",
    "- Clustering Aggregation\n",
    "\n",
    "### Probability Review\n",
    "\n",
    "Read through [the following](https://medium.com/@gallettilance/overview-of-probability-3272b72c82c8)\n",
    "\n",
    "### Soft Clustering\n",
    "\n",
    "We generate 10 data points that come from a normal distribution with mean 5 and variance 1."
   ]
  },
  {
   "cell_type": "code",
   "execution_count": 58,
   "metadata": {
    "ExecuteTime": {
     "end_time": "2023-10-11T22:31:32.086350300Z",
     "start_time": "2023-10-11T22:31:32.014677300Z"
    }
   },
   "outputs": [
    {
     "name": "stdout",
     "output_type": "stream",
     "text": [
      "[5.396329700141304, 6.882948606506545, 6.345221602848693, 6.484345173992915, 5.163827746079461, 4.20621827131756, 5.476825279060595, 5.0280535677518765, 6.394844495149558, 3.0678311580527824]\n"
     ]
    }
   ],
   "source": [
    "import random\n",
    "import numpy as np\n",
    "from sklearn.cluster import KMeans\n",
    "\n",
    "mean = 5\n",
    "stdev = 1\n",
    "\n",
    "c1 = np.random.normal(mean, stdev, 10).tolist()\n",
    "print(c1)"
   ]
  },
  {
   "cell_type": "markdown",
   "metadata": {},
   "source": [
    "a) Generate 10 more data points, this time coming from a normal distribution with mean 8 and variance 1."
   ]
  },
  {
   "cell_type": "code",
   "execution_count": 59,
   "metadata": {
    "ExecuteTime": {
     "end_time": "2023-10-11T22:31:32.185578Z",
     "start_time": "2023-10-11T22:31:32.020493400Z"
    }
   },
   "outputs": [
    {
     "name": "stdout",
     "output_type": "stream",
     "text": [
      "[7.107628101891843, 6.6938792843136685, 7.440575613046905, 7.85027023605155, 7.986151539937686, 8.548294681407482, 7.940192828806045, 7.05723872748297, 7.882844842231778, 8.133638848011401]\n"
     ]
    }
   ],
   "source": [
    "c2 = np.random.normal(8, 1, 10).tolist()\n",
    "print(c2)"
   ]
  },
  {
   "cell_type": "markdown",
   "metadata": {},
   "source": [
    "b) Flip a fair coin 10 times. If the coin lands on H, then pick the last data point of `c1` and remove it from `c1`, if T then pick the last data point from `c2` and remove it from `c2`. Add these 10 points to a list called `data`."
   ]
  },
  {
   "cell_type": "code",
   "execution_count": 60,
   "metadata": {
    "ExecuteTime": {
     "end_time": "2023-10-11T22:31:32.187591300Z",
     "start_time": "2023-10-11T22:31:32.038509900Z"
    }
   },
   "outputs": [
    {
     "name": "stdout",
     "output_type": "stream",
     "text": [
      "[8.133638848011401, 7.882844842231778, 3.0678311580527824, 7.05723872748297, 7.940192828806045, 6.394844495149558, 5.0280535677518765, 5.476825279060595, 4.20621827131756, 8.548294681407482]\n"
     ]
    }
   ],
   "source": [
    "data = []\n",
    "for i in range(10):\n",
    "    # flip coin\n",
    "    coin_output = random.choice([0, 1])\n",
    "    if coin_output == 0:\n",
    "        p1 = c1.pop()\n",
    "        data.append(p1)\n",
    "    else:\n",
    "        p2 = c2.pop()\n",
    "        data.append(p2)\n",
    "print(data)"
   ]
  },
  {
   "cell_type": "markdown",
   "metadata": {},
   "source": [
    "c) This `data` is a Gaussian Mixture Distribution with 2 mixture components. Over the next few questions we will walk through the GMM algorithm to see if we can uncover the parameters we used to generate this data. First, please list all these parameters of the GMM that created `data` and the values we know they have."
   ]
  },
  {
   "cell_type": "markdown",
   "metadata": {},
   "source": [
    "mean and variance, and probability of x coming from specie i (in worksheet, 0.5 since fair coin toss)"
   ]
  },
  {
   "cell_type": "markdown",
   "metadata": {},
   "source": [
    "d) Let's assume there are two mixture components (note: we could plot the data and make the observation that there are two clusters). The EM algorithm asks us to start with a random `mean_j`, `variance_j`, `P(S_j)` for each component j. One method we could use to find sensible values for these is to apply K means with k=2 here.\n",
    "\n",
    "1. the centroids would be the estimates of the `mean_j`\n",
    "2. the intra-cluster variance could be the estimate of `variance_j`\n",
    "3. the proportion of points in each cluster could be the estimate of `P(S_j)`\n",
    "\n",
    "Go through this process and list the parameter estimates it gives. Are they close or far from the true values?"
   ]
  },
  {
   "cell_type": "code",
   "execution_count": null,
   "outputs": [],
   "source": [
    "kmeans = KMeans(2, init='k-means++', n_init='auto').fit(X=np.array(data).reshape(-1, 1))"
   ],
   "metadata": {
    "collapsed": false
   }
  },
  {
   "cell_type": "code",
   "execution_count": 87,
   "metadata": {
    "ExecuteTime": {
     "end_time": "2023-10-12T00:33:06.075027600Z",
     "start_time": "2023-10-12T00:33:06.025218300Z"
    }
   },
   "outputs": [
    {
     "name": "stdout",
     "output_type": "stream",
     "text": [
      "[8.133638848011401, 7.882844842231778, 7.05723872748297, 7.940192828806045, 6.394844495149558, 8.548294681407482]\n",
      "[3.0678311580527824, 5.0280535677518765, 5.476825279060595, 4.20621827131756]\n",
      "[[7.65950907]\n",
      " [4.44473207]] 6.463732516826693\n",
      "P(S_1) = 0.6,  P(S_2) = 0.4\n",
      "mean_1 = 7.659509070514872,  mean_2 = 4.4447320690457035\n",
      "var_1 = 0.5175845335691994,  var_2 = 0.839556328852874\n"
     ]
    }
   ],
   "source": [
    "s1 = [x[0] for x in filter(lambda x: x[1] == 0, zip(data, kmeans.labels_))]\n",
    "print(s1)\n",
    "s2 = [x[0] for x in filter(lambda x: x[1] == 1, zip(data, kmeans.labels_))]\n",
    "print(s2)\n",
    "\n",
    "prob_s = [len(s1) / (len(s1) + len(s2)), len(s2) / (len(s1) + len(s2))]\n",
    "mean = [sum(s1) / len(s1), sum(s2) / len(s2)]\n",
    "var = [sum(map(lambda x: (x - mean[0]) ** 2, s1)) / len(s1), sum(map(lambda x: (x - mean[1]) ** 2, s2)) / len(s2)]\n",
    "\n",
    "print(\"P(S_1) = \" + str(prob_s[0]) + \",  P(S_2) = \" + str(prob_s[1]))\n",
    "print(\"mean_1 = \" + str(mean[0]) + \",  mean_2 = \" + str(mean[1]))\n",
    "print(\"var_1 = \" + str(var[0]) + \",  var_2 = \" + str(var[1]))\n",
    "print(\"\")"
   ]
  },
  {
   "cell_type": "markdown",
   "metadata": {},
   "source": [
    "mean_1 = 7.659509070514872,  mean_2 = 4.4447320690457035\n",
    "var_1 = 0.5175845335691994,  var_2 = 0.839556328852874\n",
    "kmeans seems to have assigned mean_1 to c2, and mean_2 to c1.\n",
    "\n",
    "The true mean for mean_1 is thus 8, var is 1.\n",
    "for mean_2 is 5, var is 1.\n",
    "The variance for mean_1 differs greatly, but the mean is pretty accurate.\n",
    "The predicted probability is exactly as the true value since we took 4 data from c1 and 6 data from c2 when sampling.\n",
    "\n"
   ]
  },
  {
   "cell_type": "markdown",
   "metadata": {},
   "source": [
    "e) For each data point, compute `P(S_j | X_i)`. Comment on which cluster you think each point belongs to based on the estimated probabilities. How does that compare to the truth?"
   ]
  },
  {
   "cell_type": "code",
   "execution_count": 62,
   "metadata": {
    "ExecuteTime": {
     "end_time": "2023-10-11T22:31:32.190592100Z",
     "start_time": "2023-10-11T22:31:32.066581Z"
    }
   },
   "outputs": [
    {
     "name": "stdout",
     "output_type": "stream",
     "text": [
      "point =  8.133638848011401\n",
      "probability of observing that point if it came from cluster 0 =  0.5066556681378395\n",
      "probability of observing that point if it came from cluster 1 =  3.051989045893879e-05\n",
      "point =  7.882844842231778\n",
      "probability of observing that point if it came from cluster 0 =  0.7022606753484021\n",
      "probability of observing that point if it came from cluster 1 =  0.00010845214911427004\n",
      "point =  3.0678311580527824\n",
      "probability of observing that point if it came from cluster 0 =  6.269367088414215e-18\n",
      "probability of observing that point if it came from cluster 1 =  0.12382171115370404\n",
      "point =  7.05723872748297\n",
      "probability of observing that point if it came from cluster 0 =  0.39166093163892207\n",
      "probability of observing that point if it came from cluster 1 =  0.0037514426672387523\n",
      "point =  7.940192828806045\n",
      "probability of observing that point if it came from cluster 0 =  0.6653791069021735\n",
      "probability of observing that point if it came from cluster 1 =  8.179747502410928e-05\n",
      "point =  6.394844495149558\n",
      "probability of observing that point if it came from cluster 0 =  0.03895099592408973\n",
      "probability of observing that point if it came from cluster 1 =  0.03200920356659193\n",
      "point =  5.0280535677518765\n",
      "probability of observing that point if it came from cluster 0 =  1.8796375868224401e-06\n",
      "probability of observing that point if it came from cluster 1 =  0.3732792447520791\n",
      "point =  5.476825279060595\n",
      "probability of observing that point if it came from cluster 0 =  0.00010599236221317952\n",
      "probability of observing that point if it came from cluster 1 =  0.22320044775787964\n",
      "point =  4.20621827131756\n",
      "probability of observing that point if it came from cluster 0 =  1.6621814972839222e-10\n",
      "probability of observing that point if it came from cluster 1 =  0.45638805868729326\n",
      "point =  8.548294681407482\n",
      "probability of observing that point if it came from cluster 0 =  0.1764515342710615\n",
      "probability of observing that point if it came from cluster 1 =  3.08416351584511e-06\n",
      "8.133638848011401\n",
      "Probability of coming from S_1 = 0.9999598429902982\n",
      "Probability of coming from S_2 = 4.0157009701901e-05\n",
      "\n",
      "7.882844842231778\n",
      "Probability of coming from S_1 = 0.9998970553353849\n",
      "Probability of coming from S_2 = 0.00010294466461508138\n",
      "\n",
      "3.0678311580527824\n",
      "Probability of coming from S_1 = 7.59483175042522e-17\n",
      "Probability of coming from S_2 = 0.9999999999999999\n",
      "\n",
      "7.05723872748297\n",
      "Probability of coming from S_1 = 0.9936549884199162\n",
      "Probability of coming from S_2 = 0.0063450115800838805\n",
      "\n",
      "7.940192828806045\n",
      "Probability of coming from S_1 = 0.9999180509567646\n",
      "Probability of coming from S_2 = 8.194904323550511e-05\n",
      "\n",
      "6.394844495149558\n",
      "Probability of coming from S_1 = 0.646055656469901\n",
      "Probability of coming from S_2 = 0.35394434353009896\n",
      "\n",
      "5.0280535677518765\n",
      "Probability of coming from S_1 = 7.553152563631172e-06\n",
      "Probability of coming from S_2 = 0.9999924468474364\n",
      "\n",
      "5.476825279060595\n",
      "Probability of coming from S_1 = 0.0007118058048166534\n",
      "Probability of coming from S_2 = 0.9992881941951833\n",
      "\n",
      "4.20621827131756\n",
      "Probability of coming from S_1 = 5.463053200241878e-10\n",
      "Probability of coming from S_2 = 0.9999999994536947\n",
      "\n",
      "8.548294681407482\n",
      "Probability of coming from S_1 = 0.9999883475932332\n",
      "Probability of coming from S_2 = 1.1652406766757494e-05\n"
     ]
    }
   ],
   "source": [
    "from scipy.stats import norm\n",
    "\n",
    "prob_s0_x = []  # P(S_0 | X_i)\n",
    "prob_s1_x = []  # P(S_1 | X_i)\n",
    "prob_x = []  # P(X_i)\n",
    "\n",
    "k = 2\n",
    "\n",
    "for p in data:\n",
    "    print(\"point = \", p)\n",
    "    pdf_i = []\n",
    "\n",
    "    for j in range(k):\n",
    "        # P(X_i | S_j)\n",
    "        pdf_i.append(norm.pdf(p, mean[j], var[j]))\n",
    "        print(\"probability of observing that point if it came from cluster \" + str(j) + \" = \", pdf_i[j])\n",
    "        # P(S_j) already computed\n",
    "        # prob_s[j]\n",
    "\n",
    "    # P(X_i) = P(S_0)P(X_i | S_0) + P(S_1)P(X_i | S_1)\n",
    "    prob_x = prob_s[0] * pdf_i[0] + prob_s[1] * pdf_i[1]\n",
    "\n",
    "    # P(S_j | X_i) = P(X_i | S_j)P(S_j) / P(X_i)\n",
    "    prob_s0_x.append((pdf_i[0] * prob_s[0]) / prob_x)\n",
    "    prob_s1_x.append((pdf_i[1] * prob_s[1]) / prob_x)\n",
    "\n",
    "probs = zip(data, prob_s0_x, prob_s1_x)\n",
    "for p in probs:\n",
    "    print(p[0])\n",
    "    print(\"Probability of coming from S_1 = \" + str(p[1]))\n",
    "    print(\"Probability of coming from S_2 = \" + str(p[2]))\n",
    "    print()\n"
   ]
  },
  {
   "cell_type": "markdown",
   "metadata": {},
   "source": [
    "f) Having computed `P(S_j | X_i)`, update the estimates of `mean_j`, `var_j`, and `P(S_j)`. How different are these values from the original ones you got from K means? briefly comment."
   ]
  },
  {
   "cell_type": "code",
   "execution_count": 63,
   "metadata": {
    "ExecuteTime": {
     "end_time": "2023-10-11T22:31:32.210579400Z",
     "start_time": "2023-10-11T22:31:32.081830700Z"
    }
   },
   "outputs": [
    {
     "name": "stdout",
     "output_type": "stream",
     "text": [
      "P(S_1) = 0.6,  P(S_2) = 0.4\n",
      "mean_1 = 7.739256935066205,  mean_2 = 4.606873415547877\n",
      "var_1 = 0.444073248597588,  var_2 = 1.0631529373051356\n"
     ]
    }
   ],
   "source": [
    "prob_c = [sum(prob_s0_x) / len(prob_s0_x), sum(prob_s1_x) / len(prob_s1_x)]\n",
    "mean = [sum([x[0] * x[1] for x in zip(prob_s0_x, data)]) / sum(prob_s0_x),\n",
    "        sum([x[0] * x[1] for x in zip(prob_s1_x, data)]) / sum(prob_s1_x)]\n",
    "var = [sum([x[0] * (x[1] - mean[0]) ** 2 for x in zip(prob_s0_x, data)]) / sum(prob_s0_x),\n",
    "       sum([x[0] * (x[1] - mean[1]) ** 2 for x in zip(prob_s1_x, data)]) / sum(prob_s1_x)]\n",
    "\n",
    "print(\"P(S_1) = \" + str(prob_s[0]) + \",  P(S_2) = \" + str(prob_s[1]))\n",
    "print(\"mean_1 = \" + str(mean[0]) + \",  mean_2 = \" + str(mean[1]))\n",
    "print(\"var_1 = \" + str(var[0]) + \",  var_2 = \" + str(var[1]))"
   ]
  },
  {
   "cell_type": "markdown",
   "metadata": {},
   "source": [
    "mean1 is higher and less variant, while mean2 is higher is more variant compared to the K-means result.\n",
    "However, the means are very close already."
   ]
  },
  {
   "cell_type": "markdown",
   "metadata": {},
   "source": [
    "g) Update `P(S_j | X_i)`. Comment on any differences or lack thereof you observe."
   ]
  },
  {
   "cell_type": "code",
   "execution_count": 64,
   "metadata": {
    "ExecuteTime": {
     "end_time": "2023-10-11T22:31:32.245591400Z",
     "start_time": "2023-10-11T22:31:32.091350100Z"
    }
   },
   "outputs": [
    {
     "name": "stdout",
     "output_type": "stream",
     "text": [
      "point =  8.133638848011401\n",
      "probability of observing that point if it came from cluster 0 =  0.6056006496930992\n",
      "probability of observing that point if it came from cluster 1 =  0.0015302595813791425\n",
      "point =  7.882844842231778\n",
      "probability of observing that point if it came from cluster 0 =  0.8526142384423634\n",
      "probability of observing that point if it came from cluster 1 =  0.003254849560784393\n",
      "point =  3.0678311580527824\n",
      "probability of observing that point if it came from cluster 0 =  8.394526121909332e-25\n",
      "probability of observing that point if it came from cluster 1 =  0.13160103172496973\n",
      "point =  7.05723872748297\n",
      "probability of observing that point if it came from cluster 0 =  0.2762221200633724\n",
      "probability of observing that point if it came from cluster 1 =  0.026350932664366732\n",
      "point =  7.940192828806045\n",
      "probability of observing that point if it came from cluster 0 =  0.8109543510818454\n",
      "probability of observing that point if it came from cluster 1 =  0.0027524117493725577\n",
      "point =  6.394844495149558\n",
      "probability of observing that point if it came from cluster 0 =  0.009187428595132677\n",
      "probability of observing that point if it came from cluster 1 =  0.09123281954709776\n",
      "point =  5.0280535677518765\n",
      "probability of observing that point if it came from cluster 0 =  7.233393449375935e-09\n",
      "probability of observing that point if it came from cluster 1 =  0.34692404222191264\n",
      "point =  5.476825279060595\n",
      "probability of observing that point if it came from cluster 0 =  2.075536711128506e-06\n",
      "probability of observing that point if it came from cluster 1 =  0.26848377736253537\n",
      "point =  4.20621827131756\n",
      "probability of observing that point if it came from cluster 0 =  1.616390668509721e-14\n",
      "probability of observing that point if it came from cluster 1 =  0.34952242044466686\n",
      "point =  8.548294681407482\n",
      "probability of observing that point if it came from cluster 0 =  0.17088689406965793\n",
      "probability of observing that point if it came from cluster 1 =  0.0003888975767082352\n",
      "8.133638848011401\n",
      "Probability of coming from S_1 = 0.9983182689812188\n",
      "Probability of coming from S_2 = 0.0016817310187811469\n",
      "\n",
      "7.882844842231778\n",
      "Probability of coming from S_1 = 0.9974614647016182\n",
      "Probability of coming from S_2 = 0.0025385352983819057\n",
      "\n",
      "3.0678311580527824\n",
      "Probability of coming from S_1 = 9.568153849416101e-24\n",
      "Probability of coming from S_2 = 1.0\n",
      "\n",
      "7.05723872748297\n",
      "Probability of coming from S_1 = 0.9402044868389615\n",
      "Probability of coming from S_2 = 0.059795513161038365\n",
      "\n",
      "7.940192828806045\n",
      "Probability of coming from S_1 = 0.9977424146900692\n",
      "Probability of coming from S_2 = 0.002257585309930829\n",
      "\n",
      "6.394844495149558\n",
      "Probability of coming from S_1 = 0.13123152933686866\n",
      "Probability of coming from S_2 = 0.8687684706631313\n",
      "\n",
      "5.0280535677518765\n",
      "Probability of coming from S_1 = 3.127511649303833e-08\n",
      "Probability of coming from S_2 = 0.9999999687248834\n",
      "\n",
      "5.476825279060595\n",
      "Probability of coming from S_1 = 1.1595743311531587e-05\n",
      "Probability of coming from S_2 = 0.9999884042566884\n",
      "\n",
      "4.20621827131756\n",
      "Probability of coming from S_1 = 6.936854006904118e-14\n",
      "Probability of coming from S_2 = 0.9999999999999307\n",
      "\n",
      "8.548294681407482\n",
      "Probability of coming from S_1 = 0.9984851249220509\n",
      "Probability of coming from S_2 = 0.001514875077949202\n"
     ]
    }
   ],
   "source": [
    "prob_s0_x = []  # P(S_0 | X_i)\n",
    "prob_s1_x = []  # P(S_1 | X_i)\n",
    "prob_x = []  # P(X_i)\n",
    "\n",
    "k = 2\n",
    "\n",
    "for p in data:\n",
    "    print(\"point = \", p)\n",
    "    pdf_i = []\n",
    "\n",
    "    for j in range(k):\n",
    "        # P(X_i | S_j)\n",
    "        pdf_i.append(norm.pdf(p, mean[j], var[j]))\n",
    "        print(\"probability of observing that point if it came from cluster \" + str(j) + \" = \", pdf_i[j])\n",
    "        # P(S_j) already computed\n",
    "        # prob_s[j]\n",
    "\n",
    "    # P(X_i) = P(S_0)P(X_i | S_0) + P(S_1)P(X_i | S_1)\n",
    "    prob_x = prob_s[0] * pdf_i[0] + prob_s[1] * pdf_i[1]\n",
    "\n",
    "    # P(S_j | X_i) = P(X_i | S_j)P(S_j) / P(X_i)\n",
    "    prob_s0_x.append((pdf_i[0] * prob_s[0]) / prob_x)\n",
    "    prob_s1_x.append((pdf_i[1] * prob_s[1]) / prob_x)\n",
    "\n",
    "probs = zip(data, prob_s0_x, prob_s1_x)\n",
    "for p in probs:\n",
    "    print(p[0])\n",
    "    print(\"Probability of coming from S_1 = \" + str(p[1]))\n",
    "    print(\"Probability of coming from S_2 = \" + str(p[2]))\n",
    "    print()"
   ]
  },
  {
   "cell_type": "markdown",
   "metadata": {},
   "source": [
    "For the 6.394 point, it seems to have changed the assignments. Now the probability of coming from s2 is 0.869, and previously it was 0.354. It seems to have changed the preferred assignment."
   ]
  },
  {
   "cell_type": "markdown",
   "metadata": {},
   "source": [
    "h) Use `P(S_j | X_i)` to create a hard assignment - label each point as belonging to a specific cluster (0 or 1)"
   ]
  },
  {
   "cell_type": "code",
   "execution_count": 82,
   "metadata": {
    "ExecuteTime": {
     "end_time": "2023-10-11T22:43:50.169257Z",
     "start_time": "2023-10-11T22:43:50.127264100Z"
    }
   },
   "outputs": [
    {
     "name": "stdout",
     "output_type": "stream",
     "text": [
      "points in cluster 0 : [8.133638848011401, 7.882844842231778, 7.05723872748297, 7.940192828806045, 6.394844495149558, 8.548294681407482]\n",
      "points in cluster 1 : [3.0678311580527824, 5.0280535677518765, 5.476825279060595, 4.20621827131756]\n"
     ]
    }
   ],
   "source": [
    "assignments = [[], []]\n",
    "for x in zip(data, prob_s0_x):\n",
    "    p = x[1]\n",
    "    d = x[0]\n",
    "    rand = random.random()\n",
    "    if rand <= p:\n",
    "        assignments[0].append(d)\n",
    "    else:\n",
    "        assignments[1].append(d)\n",
    "print(f\"points in cluster 0 : {assignments[0]}\\npoints in cluster 1 : {assignments[1]}\")"
   ]
  }
 ],
 "metadata": {
  "kernelspec": {
   "display_name": "Python 3",
   "language": "python",
   "name": "python3"
  },
  "language_info": {
   "codemirror_mode": {
    "name": "ipython",
    "version": 3
   },
   "file_extension": ".py",
   "mimetype": "text/x-python",
   "name": "python",
   "nbconvert_exporter": "python",
   "pygments_lexer": "ipython3",
   "version": "3.11.1"
  },
  "orig_nbformat": 4,
  "vscode": {
   "interpreter": {
    "hash": "e7370f93d1d0cde622a1f8e1c04877d8463912d04d973331ad4851f04de6915a"
   }
  }
 },
 "nbformat": 4,
 "nbformat_minor": 2
}
