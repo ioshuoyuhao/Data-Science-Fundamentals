{
 "cells": [
  {
   "attachments": {},
   "cell_type": "markdown",
   "metadata": {},
   "source": [
    "# Worksheet 12\n",
    "\n",
    "Name:  \n",
    "UID: \n",
    "\n",
    "### Topics\n",
    "\n",
    "- Introduction to Classification\n",
    "- K Nearest Neighbors\n",
    "\n",
    "### Introduction to Classification\n",
    "\n",
    "a) For the following examples, say whether they are or aren't an example of classification.\n",
    "\n",
    "1. Predicting whether a student will be offered a job after graduating given their GPA.\n",
    "2. Predicting how long it will take (in number of months) for a student to be offered a job after graduating, given their GPA.\n",
    "3. Predicting the number of stars (1-5) a person will assign in their yelp review given the description they wrote in the review.\n",
    "4. Predicting the number of births occuring in a specified minute."
   ]
  },
  {
   "cell_type": "markdown",
   "metadata": {},
   "source": [
    "1 yes\n",
    "2 No\n",
    "3 yes\n",
    "4 No"
   ]
  },
  {
   "cell_type": "markdown",
   "metadata": {},
   "source": [
    "b) Given a dataset, how would you set things up such that you can both learn a model and get an idea of how this model might perform on data it has never seen?"
   ]
  },
  {
   "cell_type": "markdown",
   "metadata": {},
   "source": [
    "I will split data into two parts: testing and training data. Training data is for learning a model. Testing data is used to get an idea of how the model might perform."
   ]
  },
  {
   "cell_type": "markdown",
   "metadata": {},
   "source": [
    "c) In your own words, briefly explain:\n",
    "\n",
    "- underfitting\n",
    "- overfitting\n",
    "\n",
    "and what signs to look out for for each."
   ]
  },
  {
   "cell_type": "markdown",
   "metadata": {},
   "source": [
    "Underfitting: When the model is too simple to capture the pattern of the data. \n",
    "\n",
    "Sign: high testing and training error\n",
    "\n",
    "Overfitting: When the model is too complex that catches noises or fluctuation rather than the true underlying pattern.Match the data in a too detailed so that it cannot have a general idea of how the relation looks like.\n",
    "\n",
    "Sign: high testing error, low training error"
   ]
  },
  {
   "cell_type": "markdown",
   "metadata": {},
   "source": [
    "### K Nearest Neighbors"
   ]
  },
  {
   "cell_type": "code",
   "execution_count": 25,
   "metadata": {},
   "outputs": [],
   "source": [
    "import numpy as np\n",
    "import matplotlib.pyplot as plt\n",
    "\n",
    "data = {\n",
    "    \"Attribute A\" : [3.5, 0, 1, 2.5, 2, 1.5, 2, 3.5, 1, 3, 2, 2, 2.5, 0.5, 0., 10],\n",
    "    \"Attribute B\" : [4, 1.5, 2, 1, 3.5, 2.5, 1, 0, 3, 1.5, 4, 2, 2.5, 0.5, 2.5, 10],\n",
    "    \"Class\" : [1, 0, 1, 0, 1, 0, 1, 0, 1, 0, 1, 0, 0, 1, 1, 0],\n",
    "}"
   ]
  },
  {
   "cell_type": "markdown",
   "metadata": {},
   "source": [
    "a) Plot the data in a 2D plot coloring each scatter point one of two colors depending on its corresponding class."
   ]
  },
  {
   "cell_type": "code",
   "execution_count": 7,
   "metadata": {},
   "outputs": [
    {
     "data": {
      "image/png": "[encoded data removed]",
      "text/plain": [
       "<Figure size 432x288 with 1 Axes>"
      ]
     },
     "metadata": {
      "needs_background": "light"
     },
     "output_type": "display_data"
    }
   ],
   "source": [
    "colors = np.array([x for x in 'bgrcmyk'])\n",
    "\n",
    "# Scatter plot the data points based on class\n",
    "plt.scatter(data[\"Attribute A\"], data[\"Attribute B\"], color=colors[data[\"Class\"]].tolist())\n",
    "plt.show()"
   ]
  },
  {
   "cell_type": "markdown",
   "metadata": {},
   "source": [
    "Outliers are points that lie far from the rest of the data. They are not necessarily invalid points however. Imagine sampling from a Normal Distribution with mean 10 and variance 1. You would expect most points you sample to be in the range [7, 13] but it's entirely possible to see 20 which, on average, should be very far from the rest of the points in the sample (unless we're VERY (un)lucky). These outliers can inhibit our ability to learn general patterns in the data since they are not representative of likely outcomes. They can still be useful in of themselves and can be analyzed in great depth depending on the problem at hand.\n",
    "\n",
    "b) Are there any points in the dataset that could be outliers? If so, please remove them from the dataset."
   ]
  },
  {
   "cell_type": "markdown",
   "metadata": {},
   "source": []
  },
  {
   "cell_type": "code",
   "execution_count": 11,
   "metadata": {},
   "outputs": [
    {
     "data": {
      "image/png": "[encoded data removed]",
      "text/plain": [
       "<Figure size 432x288 with 1 Axes>"
      ]
     },
     "metadata": {
      "needs_background": "light"
     },
     "output_type": "display_data"
    }
   ],
   "source": [
    "import scipy.stats as stats\n",
    "\n",
    "# Calculate Z-scores for each data point in both attributes\n",
    "z_scores_a = np.abs(stats.zscore(data[\"Attribute A\"]))\n",
    "z_scores_b = np.abs(stats.zscore(data[\"Attribute B\"]))\n",
    "\n",
    "# Define a threshold for outlier detection (e.g., Z-score > 3)\n",
    "threshold = 3\n",
    "\n",
    "# Find the indices of the outliers\n",
    "outliers = np.where((z_scores_a > threshold) | (z_scores_b > threshold))\n",
    "\n",
    "# Remove the outliers from the dataset\n",
    "for key in data:\n",
    "    data[key] = [data[key][i] for i in range(len(data[key])) if i not in outliers[0]]\n",
    "\n",
    "# Plot the cleaned dataset\n",
    "colors = np.array([x for x in 'bgrcmyk'])\n",
    "plt.scatter(data[\"Attribute A\"], data[\"Attribute B\"], color=colors[data[\"Class\"]].tolist())\n",
    "plt.show()"
   ]
  },
  {
   "cell_type": "markdown",
   "metadata": {},
   "source": [
    "Noise points are points that could be considered invalid under the general trend in the data. These could be the result of actual errors in the data or randomness that we could attribute to oversimplification (for example if missing some information / feature about each point). Considering noise points in our model can often lead to overfitting.\n",
    "\n",
    "c) Are there any points in the dataset that could be noise points?"
   ]
  },
  {
   "cell_type": "markdown",
   "metadata": {},
   "source": [
    "(0, 1.5)"
   ]
  },
  {
   "cell_type": "markdown",
   "metadata": {},
   "source": [
    "For the following point\n",
    "\n",
    "|  A  |  B  |\n",
    "|-----|-----|\n",
    "| 0.5 |  1  |\n",
    "\n",
    "d) Plot it in a different color along with the rest of the points in the dataset."
   ]
  },
  {
   "cell_type": "code",
   "execution_count": 12,
   "metadata": {},
   "outputs": [
    {
     "data": {
      "image/png": "[encoded data removed]",
      "text/plain": [
       "<Figure size 432x288 with 1 Axes>"
      ]
     },
     "metadata": {
      "needs_background": "light"
     },
     "output_type": "display_data"
    }
   ],
   "source": [
    "import numpy as np\n",
    "import matplotlib.pyplot as plt\n",
    "from scipy import stats\n",
    "\n",
    "data = {\n",
    "    \"Attribute A\": [3.5, 0, 1, 2.5, 2, 1.5, 2, 3.5, 1, 3, 2, 2, 2.5, 0.5, 0., 10],\n",
    "    \"Attribute B\": [4, 1.5, 2, 1, 3.5, 2.5, 1, 0, 3, 1.5, 4, 2, 2.5, 0.5, 2.5, 10],\n",
    "    \"Class\": [1, 0, 1, 0, 1, 0, 1, 0, 1, 0, 1, 0, 0, 1, 1, 0],\n",
    "}\n",
    "\n",
    "# Calculate Z-scores for each data point in both attributes\n",
    "z_scores_a = np.abs(stats.zscore(data[\"Attribute A\"]))\n",
    "z_scores_b = np.abs(stats.zscore(data[\"Attribute B\"]))\n",
    "\n",
    "# Define a threshold for outlier detection (e.g., Z-score > 3)\n",
    "threshold = 3\n",
    "\n",
    "# Find the indices of the outliers\n",
    "outliers = np.where((z_scores_a > threshold) | (z_scores_b > threshold))\n",
    "\n",
    "# Remove the outliers from the dataset\n",
    "for key in data:\n",
    "    data[key] = [data[key][i] for i in range(len(data[key])) if i not in outliers[0]]\n",
    "\n",
    "# Add the point (0.5, 1) to the dataset\n",
    "data[\"Attribute A\"].append(0.5)\n",
    "data[\"Attribute B\"].append(1)\n",
    "data[\"Class\"].append(2)  # Assign a unique class value (e.g., 2) to distinguish the new point\n",
    "\n",
    "# Plot the cleaned dataset with the new point in a different color\n",
    "colors = np.array([x for x in 'bgrcmyk'])\n",
    "plt.scatter(data[\"Attribute A\"], data[\"Attribute B\"], color=colors[data[\"Class\"]].tolist())\n",
    "plt.show()\n"
   ]
  },
  {
   "cell_type": "markdown",
   "metadata": {},
   "source": [
    "e) Write a function to compute the Euclidean distance from it to all points in the dataset and pick the 3 closest points to it. In a scatter plot, draw a circle centered around the point with radius the distance of the farthest of the three points."
   ]
  },
  {
   "cell_type": "code",
   "execution_count": 14,
   "metadata": {},
   "outputs": [
    {
     "data": {
      "image/png": "[encoded data removed]",
      "text/plain": [
       "<Figure size 432x288 with 1 Axes>"
      ]
     },
     "metadata": {
      "needs_background": "light"
     },
     "output_type": "display_data"
    }
   ],
   "source": [
    "import numpy as np\n",
    "import matplotlib.pyplot as plt\n",
    "from scipy.spatial.distance import euclidean\n",
    "\n",
    "def n_closest_to(example, n, data):\n",
    "    distances = [euclidean(example, (data[\"Attribute A\"][i], data[\"Attribute B\"][i])) for i in range(len(data[\"Attribute A\"]))]\n",
    "    closest_indices = np.argsort(distances)[:n+1] # exclude itself\n",
    "    closest_points = [(data[\"Attribute A\"][i], data[\"Attribute B\"][i]) for i in closest_indices]\n",
    "    return closest_points\n",
    "\n",
    "# Assuming you have the point's coordinates as a tuple\n",
    "location = (0.5, 1)\n",
    "\n",
    "# Calculate the Euclidean distances and get the 3 closest points\n",
    "n = 3\n",
    "closest_points = n_closest_to(location, n, data)\n",
    "\n",
    "# Find the distance to the farthest of the 3 closest points\n",
    "farthest_distance = max([euclidean(location, point) for point in closest_points])\n",
    "\n",
    "# Create a scatter plot of the dataset\n",
    "colors = np.array([x for x in 'bgrcmyk'])\n",
    "plt.scatter(data[\"Attribute A\"], data[\"Attribute B\"], color=colors[data[\"Class\"]].tolist())\n",
    "\n",
    "# Draw a circle centered around the point with the radius of the farthest of the 3 closest points\n",
    "cir = plt.Circle(location, farthest_distance, fill=False, alpha=0.8)\n",
    "plt.gca().add_patch(cir)\n",
    "\n",
    "plt.gca().set_aspect('equal')  # Necessary so that the circle is not an oval\n",
    "plt.show()\n"
   ]
  },
  {
   "cell_type": "markdown",
   "metadata": {},
   "source": [
    "f) Write a function that takes the three points returned by your function in e) and returns the class that the majority of points have (break ties with a deterministic default class of your choosing). Print the class assigned to this new point by your function."
   ]
  },
  {
   "cell_type": "code",
   "execution_count": 15,
   "metadata": {},
   "outputs": [
    {
     "name": "stdout",
     "output_type": "stream",
     "text": [
      "Assigned Class: 1\n"
     ]
    }
   ],
   "source": [
    "import numpy as np\n",
    "\n",
    "def majority_class(closest_points, data, default_class):\n",
    "    # Get the classes of the closest points\n",
    "    classes = [data[\"Class\"][data[\"Attribute A\"].index(point[0])] for point in closest_points]\n",
    "\n",
    "    # Count the occurrences of each class\n",
    "    class_counts = {0: 0, 1: 0}\n",
    "\n",
    "    for c in classes:\n",
    "        class_counts[c] += 1\n",
    "\n",
    "    # Determine the majority class, breaking ties with the default class\n",
    "    if class_counts[0] > class_counts[1]:\n",
    "        return 0\n",
    "    elif class_counts[1] > class_counts[0]:\n",
    "        return 1\n",
    "    else:\n",
    "        return default_class\n",
    "\n",
    "# Assuming you have already calculated closest_points\n",
    "default_class = 0  # You can choose a default class of your preference\n",
    "assigned_class = majority_class(closest_points, data, default_class)\n",
    "print(\"Assigned Class:\", assigned_class)\n"
   ]
  },
  {
   "cell_type": "markdown",
   "metadata": {},
   "source": [
    "g) Re-using the functions from e) and f), you should be able to assign a class to any new point. In this exercise we will implement Leave-one-out cross validiation in order to evaluate the performance of our model.\n",
    "\n",
    "For each point in the dataset:\n",
    "\n",
    "- consider that point as your test set and the rest of the data as your training set\n",
    "- classify that point using the training set\n",
    "- keep track of whether you were correct with the use of a counter\n",
    "\n",
    "Once you've iterated through the entire dataset, divide the counter by the number of points in the dataset to report an overall testing accuracy."
   ]
  },
  {
   "cell_type": "code",
   "execution_count": 27,
   "metadata": {},
   "outputs": [
    {
     "name": "stdout",
     "output_type": "stream",
     "text": [
      "Testing Accuracy: 0.5625\n"
     ]
    }
   ],
   "source": [
    "import numpy as np\n",
    "\n",
    "def leave_one_out_cross_validation(data, default_class=0):\n",
    "    correct_counter = 0\n",
    "\n",
    "    for i in range(len(data[\"Attribute A\"])):\n",
    "        test_point = (data[\"Attribute A\"][i], data[\"Attribute B\"][i])\n",
    "        train_data = {\"Attribute A\": [], \"Attribute B\": [], \"Class\": []}\n",
    "\n",
    "        for j in range(len(data[\"Attribute A\"])):\n",
    "            if i != j:\n",
    "                train_data[\"Attribute A\"].append(data[\"Attribute A\"][j])\n",
    "                train_data[\"Attribute B\"].append(data[\"Attribute B\"][j])\n",
    "                train_data[\"Class\"].append(data[\"Class\"][j])\n",
    "\n",
    "        closest_points = n_closest_to(test_point, 3, train_data)\n",
    "        assigned_class = majority_class(closest_points, train_data, default_class)\n",
    "\n",
    "        if assigned_class == data[\"Class\"][i]:\n",
    "            correct_counter += 1\n",
    "\n",
    "    testing_accuracy = correct_counter / len(data[\"Attribute A\"])\n",
    "    return testing_accuracy\n",
    "\n",
    "# Testing the LOOCV function and printing the testing accuracy\n",
    "testing_accuracy = leave_one_out_cross_validation(data)\n",
    "print(\"Testing Accuracy:\", testing_accuracy)\n"
   ]
  }
 ],
 "metadata": {
  "interpreter": {
   "hash": "76ca05dc3ea24b2e3b98cdb7774adfbb40773424bf5109b477fd793f623715af"
  },
  "kernelspec": {
   "display_name": "Python 3.9.9 64-bit ('env': venv)",
   "language": "python",
   "name": "python3"
  },
  "language_info": {
   "codemirror_mode": {
    "name": "ipython",
    "version": 3
   },
   "file_extension": ".py",
   "mimetype": "text/x-python",
   "name": "python",
   "nbconvert_exporter": "python",
   "pygments_lexer": "ipython3",
   "version": "3.9.7"
  },
  "orig_nbformat": 4
 },
 "nbformat": 4,
 "nbformat_minor": 2
}
