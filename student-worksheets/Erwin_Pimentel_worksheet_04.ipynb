{
 "cells": [
  {
   "cell_type": "markdown",
   "metadata": {},
   "source": [
    "# Worksheet 04\n",
    "\n",
    "Name:  Erwin Pimentel\n",
    "UID: U97810050\n",
    "\n",
    "### Topics\n",
    "\n",
    "- Distance & Similarity"
   ]
  },
  {
   "cell_type": "markdown",
   "metadata": {},
   "source": [
    "### Distance & Similarity\n",
    "\n",
    "#### Part 1\n",
    "\n",
    "a) In the minkowski distance, describe what the parameters p and d are."
   ]
  },
  {
   "cell_type": "markdown",
   "metadata": {},
   "source": [
    "In the minkowski distance:\n",
    "p - this is a tuning parameter, in this case it gives us the type of measurement that we are using (p=1 is manhattan distance and p=2 is euclidian distance)\n",
    "d - the dimensions of the space we are measuring in (2-d, 3-d, etc.)"
   ]
  },
  {
   "cell_type": "markdown",
   "metadata": {},
   "source": [
    "b) In your own words describe the difference between the Euclidean distance and the Manhattan distance."
   ]
  },
  {
   "cell_type": "markdown",
   "metadata": {},
   "source": [
    "Euclidian distance is the typical way of measuring distance between two points and the premise of it is that the shortest distance between two points is a single line. The Manhattan distance is a form of measurement such that the distance between two points can only be traversed in a grid-like motion."
   ]
  },
  {
   "cell_type": "markdown",
   "metadata": {},
   "source": [
    "Consider A = (0, 0) and B = (1, 1). When:\n",
    "\n",
    "- p = 1, d(A, B) = 2\n",
    "- p = 2, d(A, B) = $\\sqrt{2} = 1.41$\n",
    "- p = 3, d(A, B) = $2^{1/3} = 1.26$\n",
    "- p = 4, d(A, B) = $2^{1/4} = 1.19$\n",
    "\n",
    "c) Describe what you think distance would look like when p is very large."
   ]
  },
  {
   "cell_type": "markdown",
   "metadata": {},
   "source": [
    "It is pretty clear that as p becomes larger, the distance between the two points becomes smaller an dsmaller. Thus one can conclude that when p is very large the distance between the two points will effectively be 1."
   ]
  },
  {
   "cell_type": "markdown",
   "metadata": {},
   "source": [
    "d) Is the minkowski distance still a distance function when p < 1? Expain why / why not."
   ]
  },
  {
   "cell_type": "markdown",
   "metadata": {},
   "source": [
    "No, the minkowski distance is not a distance function when p<1 because it violates the triangle inequality and any fucntion in which the triangle inequality does not hold cannot be a valid distance function."
   ]
  },
  {
   "cell_type": "markdown",
   "metadata": {},
   "source": [
    "e) when would you use cosine similarity over the euclidan distance?"
   ]
  },
  {
   "cell_type": "markdown",
   "metadata": {},
   "source": [
    "You would use the cosine similarity over the euclidian distance when direction matters more thab magnitude."
   ]
  },
  {
   "cell_type": "markdown",
   "metadata": {},
   "source": [
    "f) what does the jaccard distance account for that the manhattan distance doesn't?"
   ]
  },
  {
   "cell_type": "markdown",
   "metadata": {},
   "source": [
    "The jaccard distance accounts for the size of the intersection, something which the manhattan distance does not account for."
   ]
  },
  {
   "cell_type": "markdown",
   "metadata": {},
   "source": [
    "#### Part 2\n",
    "\n",
    "Consider the following two sentences:"
   ]
  },
  {
   "cell_type": "code",
   "execution_count": 54,
   "metadata": {},
   "outputs": [],
   "source": [
    "s1 = \"hello my name is Alice\"  \n",
    "s2 = \"hello my name is Bob\""
   ]
  },
  {
   "cell_type": "markdown",
   "metadata": {},
   "source": [
    "using the union of words from both sentences, we can represent each sentence as a vector. Each element of the vector represents the presence or absence of the word at that index.\n",
    "\n",
    "In this example, the union of words is (\"hello\", \"my\", \"name\", \"is\", \"Alice\", \"Bob\") so we can represent the above sentences as such:"
   ]
  },
  {
   "cell_type": "code",
   "execution_count": 55,
   "metadata": {},
   "outputs": [],
   "source": [
    "v1 = [1,    1, 1,   1, 1,    0]\n",
    "#     hello my name is Alice\n",
    "v2 = [1,    1, 1,   1, 0, 1]\n",
    "#     hello my name is    Bob"
   ]
  },
  {
   "cell_type": "markdown",
   "metadata": {},
   "source": [
    "Programmatically, we can do the following:"
   ]
  },
  {
   "cell_type": "code",
   "execution_count": 56,
   "metadata": {},
   "outputs": [
    {
     "name": "stdout",
     "output_type": "stream",
     "text": [
      "['my', 'name', 'is', 'hello', 'Bob', 'Alice']\n",
      "[1, 1, 1, 1, 0, 1]\n"
     ]
    }
   ],
   "source": [
    "corpus = [s1, s2]\n",
    "all_words = list(set([item for x in corpus for item in x.split()]))\n",
    "print(all_words)\n",
    "v1 = [1 if x in s1 else 0 for x in all_words]\n",
    "print(v1)"
   ]
  },
  {
   "cell_type": "markdown",
   "metadata": {},
   "source": [
    "Let's add a new sentence to our corpus:"
   ]
  },
  {
   "cell_type": "code",
   "execution_count": 57,
   "metadata": {},
   "outputs": [],
   "source": [
    "s3 = \"hi my name is Claude\"\n",
    "corpus.append(s3)"
   ]
  },
  {
   "cell_type": "markdown",
   "metadata": {},
   "source": [
    "a) What is the new union of words used to represent s1, s2, and s3?"
   ]
  },
  {
   "cell_type": "code",
   "execution_count": 58,
   "metadata": {},
   "outputs": [
    {
     "name": "stdout",
     "output_type": "stream",
     "text": [
      "['my', 'name', 'Claude', 'is', 'hello', 'Bob', 'hi', 'Alice']\n"
     ]
    }
   ],
   "source": [
    "all_words = list(set([item for x in corpus for item in x.split()]))\n",
    "print(all_words)"
   ]
  },
  {
   "cell_type": "markdown",
   "metadata": {},
   "source": [
    "b) Represent s1, s2, and s3 as vectors as above, using this new set of words."
   ]
  },
  {
   "cell_type": "code",
   "execution_count": 59,
   "metadata": {},
   "outputs": [
    {
     "name": "stdout",
     "output_type": "stream",
     "text": [
      "[1, 1, 0, 1, 1, 0, 0, 1]\n",
      "[1, 1, 0, 1, 1, 1, 0, 0]\n",
      "[1, 1, 1, 1, 0, 0, 1, 0]\n"
     ]
    }
   ],
   "source": [
    "v1 = [1 if x in s1 else 0 for x in all_words]\n",
    "v2 = [1 if x in s2 else 0 for x in all_words]\n",
    "v3 = [1 if x in s3 else 0 for x in all_words]\n",
    "\n",
    "print(v1)\n",
    "print(v2)\n",
    "print(v3)"
   ]
  },
  {
   "cell_type": "markdown",
   "metadata": {},
   "source": [
    "c) Write a function that computes the manhattan distance between two vectors. Which pair of vectors are the most similar under that distance function?"
   ]
  },
  {
   "cell_type": "code",
   "execution_count": 60,
   "metadata": {},
   "outputs": [
    {
     "name": "stdout",
     "output_type": "stream",
     "text": [
      "Manhattan distance between v1 and v2: 2\n",
      "Manhattan distance between v1 and v3: 4\n",
      "Manhattan distance between v2 and v3: 4\n"
     ]
    }
   ],
   "source": [
    "def manhattan_distance(vector1, vector2):\n",
    "    if len(vector1) != len(vector2):\n",
    "        raise ValueError(\"Vectors must have the same length\")\n",
    "    \n",
    "    distance = 0\n",
    "    for i in range(len(vector1)):\n",
    "        distance += abs(vector1[i] - vector2[i])\n",
    "    \n",
    "    return distance\n",
    "\n",
    "distance_v1_v2 = manhattan_distance(v1, v2)\n",
    "distance_v1_v3 = manhattan_distance(v1, v3)\n",
    "distance_v2_v3 = manhattan_distance(v2, v3)\n",
    "\n",
    "print(\"Manhattan distance between v1 and v2:\", distance_v1_v2)\n",
    "print(\"Manhattan distance between v1 and v3:\", distance_v1_v3)\n",
    "print(\"Manhattan distance between v2 and v3:\", distance_v2_v3)"
   ]
  },
  {
   "cell_type": "raw",
   "metadata": {},
   "source": [
    "Vectors v1 and v2 are the most similar vectors under this distance function."
   ]
  },
  {
   "cell_type": "markdown",
   "metadata": {},
   "source": [
    "d) Create a matrix of all these vectors (row major) and add the following sentences in vector form:\n",
    "\n",
    "- \"hi Alice\"\n",
    "- \"hello Claude\"\n",
    "- \"Bob my name is Claude\"\n",
    "- \"hi Claude my name is Alice\"\n",
    "- \"hello Bob\""
   ]
  },
  {
   "cell_type": "code",
   "execution_count": 61,
   "metadata": {},
   "outputs": [
    {
     "name": "stdout",
     "output_type": "stream",
     "text": [
      "[1, 1, 0, 1, 1, 0, 0, 1]\n",
      "[1, 1, 0, 1, 1, 1, 0, 0]\n",
      "[1, 1, 1, 1, 0, 0, 1, 0]\n",
      "[0, 0, 0, 0, 0, 0, 1, 1]\n",
      "[0, 0, 1, 0, 1, 0, 0, 0]\n",
      "[1, 1, 1, 1, 0, 1, 0, 0]\n",
      "[1, 1, 1, 1, 0, 0, 1, 1]\n",
      "[0, 0, 0, 0, 1, 1, 0, 0]\n"
     ]
    }
   ],
   "source": [
    "# store new sentences\n",
    "new_sentences = [\n",
    "    \"hi Alice\",\n",
    "    \"hello Claude\",\n",
    "    \"Bob my name is Claude\",\n",
    "    \"hi Claude my name is Alice\",\n",
    "    \"hello Bob\"\n",
    "]\n",
    "\n",
    "# create new vectors for each new sentence\n",
    "new_vectors = []\n",
    "for sentence in new_sentences:\n",
    "    corpus.append(sentence)\n",
    "    new_vector = [1 if x in sentence else 0 for x in all_words]\n",
    "    new_vectors.append(new_vector)\n",
    "    \n",
    "# create a matrix using these new vectors and the previously calculated vectors\n",
    "matrix = [v1, v2, v3] + new_vectors\n",
    "\n",
    "# print the matrix\n",
    "for row in matrix:\n",
    "    print(row)"
   ]
  },
  {
   "cell_type": "markdown",
   "metadata": {},
   "source": [
    "e) How many rows and columns does this matrix have?"
   ]
  },
  {
   "cell_type": "code",
   "execution_count": 62,
   "metadata": {},
   "outputs": [
    {
     "name": "stdout",
     "output_type": "stream",
     "text": [
      "Number of rows: 8\n",
      "Number of columns: 8\n"
     ]
    }
   ],
   "source": [
    "# Number of rows (aka the number of sentences)\n",
    "num_rows = len(matrix)\n",
    "\n",
    "# Number of columns (aka the number of unique words in the corpus)\n",
    "num_columns = len(all_words)\n",
    "\n",
    "print(\"Number of rows:\", num_rows)\n",
    "print(\"Number of columns:\", num_columns)"
   ]
  },
  {
   "cell_type": "markdown",
   "metadata": {},
   "source": [
    "f) When using the Manhattan distance, which two sentences are the most similar?"
   ]
  },
  {
   "cell_type": "code",
   "execution_count": 63,
   "metadata": {},
   "outputs": [
    {
     "name": "stdout",
     "output_type": "stream",
     "text": [
      "The most similar sentences are:\n",
      "[1, 1, 1, 1, 0, 0, 1, 0]\n",
      "[1, 1, 1, 1, 0, 0, 1, 1]\n",
      "Sentence 2: hi my name is Claude\n",
      "Sentence 6: hi Claude my name is Alice\n",
      "Manhattan distance: 1\n"
     ]
    }
   ],
   "source": [
    "# placeholder variables\n",
    "most_similar_indices = None\n",
    "min_distance = float(\"inf\")\n",
    "\n",
    "# Calculate Manhattan distances between all pairs of sentences\n",
    "for i in range(len(matrix)):\n",
    "    for j in range(i + 1, len(matrix)):\n",
    "        distance = manhattan_distance(vectors[i], vectors[j])\n",
    "        if distance < min_distance:\n",
    "            min_distance = distance\n",
    "            most_similar_indices = (i, j)\n",
    "\n",
    "# Extract the indices of the most similar sentences\n",
    "idx1 = most_similar_indices[0]\n",
    "idx2 = most_similar_indices[1]\n",
    "\n",
    "# Print the most similar sentences and their Manhattan distance\n",
    "print(\"The most similar sentences are:\")\n",
    "print(matrix[idx1])\n",
    "print(matrix[idx2])\n",
    "print(f\"Sentence {idx1}: {corpus[idx1]}\")\n",
    "print(f\"Sentence {idx2}: {corpus[idx2]}\")\n",
    "print(f\"Manhattan distance: {min_distance}\")"
   ]
  },
  {
   "cell_type": "markdown",
   "metadata": {},
   "source": []
  }
 ],
 "metadata": {
  "kernelspec": {
   "display_name": "Python 3 (ipykernel)",
   "language": "python",
   "name": "python3"
  },
  "language_info": {
   "codemirror_mode": {
    "name": "ipython",
    "version": 3
   },
   "file_extension": ".py",
   "mimetype": "text/x-python",
   "name": "python",
   "nbconvert_exporter": "python",
   "pygments_lexer": "ipython3",
   "version": "3.11.4"
  },
  "vscode": {
   "interpreter": {
    "hash": "76ca05dc3ea24b2e3b98cdb7774adfbb40773424bf5109b477fd793f623715af"
   }
  }
 },
 "nbformat": 4,
 "nbformat_minor": 2
}
