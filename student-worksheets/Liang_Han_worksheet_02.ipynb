{
 "cells": [
  {
   "attachments": {},
   "cell_type": "markdown",
   "metadata": {},
   "source": [
    "# Worksheet 02\n",
    "\n",
    "Name:  Liang Han\n",
    "\n",
    "UID: U86104920\n",
    "\n",
    "### Topics\n",
    "\n",
    "- Effective Programming\n",
    "\n",
    "### Effective Programming\n",
    "\n",
    "a) What is a drawback of the top down approach?"
   ]
  },
  {
   "attachments": {},
   "cell_type": "markdown",
   "metadata": {},
   "source": [
    "We don't have a working code until we are at the end of the development cycle."
   ]
  },
  {
   "attachments": {},
   "cell_type": "markdown",
   "metadata": {},
   "source": [
    "b) What is a drawback of the bottom up approach?"
   ]
  },
  {
   "attachments": {},
   "cell_type": "markdown",
   "metadata": {},
   "source": [
    "it is hard to know upfront everything we need. Many times we implement functions that we don't need at all."
   ]
  },
  {
   "attachments": {},
   "cell_type": "markdown",
   "metadata": {},
   "source": [
    "c) What are 3 things you can do to have a better debugging experience?"
   ]
  },
  {
   "attachments": {},
   "cell_type": "markdown",
   "metadata": {},
   "source": [
    "\n",
    "\n",
    "**1. Don't panic**\n",
    "\n",
    "2. Read the error\n",
    "\n",
    "3. Sanity check: Is everything set up properly? Are things that are supposed to be working actually working?\n"
   ]
  },
  {
   "attachments": {},
   "cell_type": "markdown",
   "metadata": {},
   "source": [
    "d) Follow along with the live coding. You can write your code here:"
   ]
  },
  {
   "cell_type": "code",
   "execution_count": 17,
   "metadata": {},
   "outputs": [
    {
     "name": "stdout",
     "output_type": "stream",
     "text": [
      "FOUND A SOLUTION\n",
      "Q _ _ _ _ _ _ _ \n",
      "_ _ _ _ Q _ _ _ \n",
      "_ _ _ _ _ _ _ Q \n",
      "_ _ _ _ _ Q _ _ \n",
      "_ _ Q _ _ _ _ _ \n",
      "_ _ _ _ _ _ Q _ \n",
      "_ Q _ _ _ _ _ _ \n",
      "_ _ _ Q _ _ _ _ \n",
      "\n",
      "Q _ _ _ _ _ _ _ \n",
      "_ _ _ _ Q _ _ _ \n",
      "_ _ _ _ _ _ _ Q \n",
      "_ _ _ _ _ Q _ _ \n",
      "_ _ Q _ _ _ _ _ \n",
      "_ _ _ _ _ _ Q _ \n",
      "_ Q _ _ _ _ _ _ \n",
      "_ _ _ Q _ _ _ _ \n",
      "\n",
      "found a solution\n"
     ]
    }
   ],
   "source": [
    "# Create a board first\n",
    "class Board:\n",
    "    def __init__(self):\n",
    "        self.board = [[\"_\" for _ in range(8)] for _ in range(8)]\n",
    "\n",
    "    def __repr__(self):\n",
    "        res = \"\"\n",
    "        for row in self.board:\n",
    "            for col in row:\n",
    "                res += col + \" \"\n",
    "            res += \"\\n\"\n",
    "        return res\n",
    "    \n",
    "    def is_legal(self, row, col):\n",
    "        if not self.is_legal_row(row,col):\n",
    "            return False\n",
    "        if not self.is_legal_col(row,col):\n",
    "            return False\n",
    "        if not self.is_legal_diag(row, col):\n",
    "            return False\n",
    "        return True\n",
    "    \n",
    "    def is_legal_row(self, row, col):\n",
    "        for i in range(len(self.board)):\n",
    "            if self.board[row][i] == \"Q\":\n",
    "                return False\n",
    "        return True\n",
    "    \n",
    "    def is_legal_col(self, row, col):\n",
    "        for i in range(len(self.board)):\n",
    "            if self.board[i][col] == \"Q\":\n",
    "                return False\n",
    "        return True\n",
    "    \n",
    "    \n",
    "    def is_in_board(self,row,col):\n",
    "        return row >= 0 and row < 8 and col >= 0 and col < 8\n",
    "\n",
    "\n",
    "\n",
    "    def is_legal_diag(self, row, col):\n",
    "        for i in range(len(self.board)):\n",
    "            if self.is_in_board(row - i, col-i) and self.board[row-i][col-i] == \"Q\":\n",
    "                return False\n",
    "            if self.is_in_board(row + i, col+i) and self.board[row+i][col+i] == \"Q\":\n",
    "                return False\n",
    "            if self.is_in_board(row - i,col+i) and self.board[row-i][col+i] == \"Q\":\n",
    "                return False\n",
    "            if self.is_in_board(row + i, col-i) and self.board[row+i][col-i] == \"Q\":\n",
    "                return False\n",
    "        return True\n",
    "    \n",
    "            \n",
    "    \n",
    "    def set_queen_at(self, row, col):\n",
    "        self.board[row][col] = 'Q'\n",
    "\n",
    "    def unset_queen(self, row, col):\n",
    "        self.board[row][col] = '_'\n",
    "    \n",
    "    def get_queen_on(self, row):\n",
    "        for col in range(len(self.board)):\n",
    "            if self.board[row][col] == 'Q':\n",
    "                return col\n",
    "            \n",
    "        raise ValueError(\"No queen on row {}\".format(row))\n",
    "    \n",
    "    def search(self):\n",
    "        row = 0\n",
    "        col = 0\n",
    "\n",
    "        while row < 8:\n",
    "            if self.is_legal(row, col):\n",
    "                self.set_queen_at(row, col)\n",
    "                row += 1\n",
    "                col = 0\n",
    "            else:\n",
    "                col += 1\n",
    "                while col > 7:\n",
    "                    col = self.get_queen_on(row-1)\n",
    "                    self.unset_queen(row-1, col)\n",
    "                    col += 1\n",
    "                    row -= 1\n",
    "        print(\"FOUND A SOLUTION\")\n",
    "        print(self)\n",
    "                \n",
    "        \n",
    "if __name__ == \"__main__\":        \n",
    "    my_board = Board()\n",
    "    my_board.search()\n",
    "    print(my_board)\n",
    "    print(\"found a solution\")\n"
   ]
  },
  {
   "cell_type": "code",
   "execution_count": 15,
   "metadata": {},
   "outputs": [],
   "source": [
    "# Get and Set Queens on the board\n",
    "\n",
    "# Is a location valid\n",
    "\n",
    "# Search for one solution first\n",
    "\n",
    "# Find all solutions\n",
    "\n",
    "# Refine"
   ]
  }
 ],
 "metadata": {
  "kernelspec": {
   "display_name": "Python 3",
   "language": "python",
   "name": "python3"
  },
  "language_info": {
   "codemirror_mode": {
    "name": "ipython",
    "version": 3
   },
   "file_extension": ".py",
   "mimetype": "text/x-python",
   "name": "python",
   "nbconvert_exporter": "python",
   "pygments_lexer": "ipython3",
   "version": "3.10.9"
  },
  "orig_nbformat": 4,
  "vscode": {
   "interpreter": {
    "hash": "76ca05dc3ea24b2e3b98cdb7774adfbb40773424bf5109b477fd793f623715af"
   }
  }
 },
 "nbformat": 4,
 "nbformat_minor": 2
}
