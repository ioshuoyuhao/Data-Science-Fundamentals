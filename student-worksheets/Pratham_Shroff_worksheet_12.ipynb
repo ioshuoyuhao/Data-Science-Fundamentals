{
  "cells": [
    {
      "cell_type": "markdown",
      "metadata": {
        "id": "lW828HEC5Q3Y"
      },
      "source": [
        "# Worksheet 12\n",
        "\n",
        "Name: Pratham Shroff\n",
        "UID: U00574969\n",
        "\n",
        "### Topics\n",
        "\n",
        "- Introduction to Classification\n",
        "- K Nearest Neighbors\n",
        "\n",
        "### Introduction to Classification\n",
        "\n",
        "a) For the following examples, say whether they are or aren't an example of classification.\n",
        "\n",
        "1. Predicting whether a student will be offered a job after graduating given their GPA.\n",
        "2. Predicting how long it will take (in number of months) for a student to be offered a job after graduating, given their GPA.\n",
        "3. Predicting the number of stars (1-5) a person will assign in their yelp review given the description they wrote in the review.\n",
        "4. Predicting the number of births occuring in a specified minute."
      ]
    },
    {
      "cell_type": "markdown",
      "metadata": {
        "id": "DmgKdOCd5Q3a"
      },
      "source": [
        "**Answer:**\n",
        "\n",
        "\n",
        "1.   Yes, classification.\n",
        "2.   No.\n",
        "3.   Yes.\n",
        "4.   No.\n",
        "\n"
      ]
    },
    {
      "cell_type": "markdown",
      "metadata": {
        "id": "KtPPG2rQ5Q3a"
      },
      "source": [
        "b) Given a dataset, how would you set things up such that you can both learn a model and get an idea of how this model might perform on data it has never seen?"
      ]
    },
    {
      "cell_type": "markdown",
      "metadata": {
        "id": "WVOr_srP5Q3a"
      },
      "source": [
        "To both, learn a model & get an idea of how it will perform on unseen data, these may be some neccessary steps:\n",
        "\n",
        "\n",
        "1.   Splitting the data: Not only into train & test but also including a validation set to use for hyperparameter tuning & model selection while reserving the test set for final evaluation.\n",
        "2.   Extensive pre-processing & feature transformations\n",
        "3.   Model & metric selection/evaluation\n",
        "4.   Other possible enhancements: Further model iteration, cross-validation etc.\n",
        "\n"
      ]
    },
    {
      "cell_type": "markdown",
      "metadata": {
        "id": "hyHBZt1t5Q3a"
      },
      "source": [
        "c) In your own words, briefly explain:\n",
        "\n",
        "- underfitting\n",
        "- overfitting\n",
        "\n",
        "and what signs to look out for for each."
      ]
    },
    {
      "cell_type": "markdown",
      "metadata": {
        "id": "T6dA9OF-5Q3a"
      },
      "source": [
        "**Underfitting:**\n",
        "Underfitting occurs when a model is too simple to capture the underlying patterns in the data. It performs poorly on both the training and test sets. Signs to look out for include low accuracy on the training data and no improvement (or even deterioration) when moving from simpler to more complex models.\n",
        "\n",
        "**Overfitting:**\n",
        "Overfitting happens when a model is too complex and starts to learn the noise in the training data, rather than the actual patterns. While it may perform exceptionally well on the training set, it does poorly on new, unseen data. Signs include a significant performance gap between training and test results, with very high accuracy on training data but much lower on the test data."
      ]
    },
    {
      "cell_type": "markdown",
      "metadata": {
        "id": "0_3dK5qA5Q3b"
      },
      "source": [
        "### K Nearest Neighbors"
      ]
    },
    {
      "cell_type": "code",
      "execution_count": 1,
      "metadata": {
        "id": "czGw32vu5Q3b"
      },
      "outputs": [],
      "source": [
        "import numpy as np\n",
        "import matplotlib.pyplot as plt\n",
        "\n",
        "data = {\n",
        "    \"Attribute A\" : [3.5, 0, 1, 2.5, 2, 1.5, 2, 3.5, 1, 3, 2, 2, 2.5, 0.5, 0., 10],\n",
        "    \"Attribute B\" : [4, 1.5, 2, 1, 3.5, 2.5, 1, 0, 3, 1.5, 4, 2, 2.5, 0.5, 2.5, 10],\n",
        "    \"Class\" : [1, 0, 1, 0, 1, 0, 1, 0, 1, 0, 1, 0, 0, 1, 1, 0],\n",
        "}"
      ]
    },
    {
      "cell_type": "markdown",
      "metadata": {
        "id": "yOSnG3qi5Q3b"
      },
      "source": [
        "a) Plot the data in a 2D plot coloring each scatter point one of two colors depending on its corresponding class."
      ]
    },
    {
      "cell_type": "code",
      "execution_count": 2,
      "metadata": {
        "colab": {
          "base_uri": "https://localhost:8080/",
          "height": 430
        },
        "id": "KD-LO5s45Q3b",
        "outputId": "cb20deb0-0c75-48eb-fe85-10bc254efcf5"
      },
      "outputs": [
        {
          "output_type": "display_data",
          "data": {
            "text/plain": [
              "<Figure size 640x480 with 1 Axes>"
            ],
            "image/png": "[encoded data removed]"
          },
          "metadata": {}
        }
      ],
      "source": [
        "colors = np.array([x for x in 'bgrcmyk'])\n",
        "plt.scatter(data[\"Attribute A\"], data[\"Attribute B\"], color=colors[data[\"Class\"]].tolist())\n",
        "plt.show()"
      ]
    },
    {
      "cell_type": "markdown",
      "metadata": {
        "id": "KLwRtXlG5Q3c"
      },
      "source": [
        "Outliers are points that lie far from the rest of the data. They are not necessarily invalid points however. Imagine sampling from a Normal Distribution with mean 10 and variance 1. You would expect most points you sample to be in the range [7, 13] but it's entirely possible to see 20 which, on average, should be very far from the rest of the points in the sample (unless we're VERY (un)lucky). These outliers can inhibit our ability to learn general patterns in the data since they are not representative of likely outcomes. They can still be useful in of themselves and can be analyzed in great depth depending on the problem at hand.\n",
        "\n",
        "b) Are there any points in the dataset that could be outliers? If so, please remove them from the dataset."
      ]
    },
    {
      "cell_type": "markdown",
      "metadata": {
        "id": "WF1grE2l5Q3c"
      },
      "source": [
        "Yes, (10, 10) is an outlier."
      ]
    },
    {
      "cell_type": "code",
      "execution_count": 3,
      "metadata": {
        "colab": {
          "base_uri": "https://localhost:8080/",
          "height": 430
        },
        "id": "bqsjGcwz5Q3c",
        "outputId": "46aee45f-38f8-4adb-f951-af8b7df78a5a"
      },
      "outputs": [
        {
          "output_type": "display_data",
          "data": {
            "text/plain": [
              "<Figure size 640x480 with 1 Axes>"
            ],
            "image/png": "[encoded data removed]"
          },
          "metadata": {}
        }
      ],
      "source": [
        "for key in data:\n",
        "    data[key] = data[key][:-1]\n",
        "\n",
        "colors = np.array([x for x in 'bgrcmyk'])\n",
        "plt.scatter(data[\"Attribute A\"], data[\"Attribute B\"], color=colors[data[\"Class\"]].tolist())\n",
        "plt.show()"
      ]
    },
    {
      "cell_type": "markdown",
      "metadata": {
        "id": "6CN8TGnA5Q3c"
      },
      "source": [
        "Noise points are points that could be considered invalid under the general trend in the data. These could be the result of actual errors in the data or randomness that we could attribute to oversimplification (for example if missing some information / feature about each point). Considering noise points in our model can often lead to overfitting.\n",
        "\n",
        "c) Are there any points in the dataset that could be noise points?"
      ]
    },
    {
      "cell_type": "markdown",
      "metadata": {
        "id": "X4JvnIoK5Q3c"
      },
      "source": [
        "There may be some noise points but currently, I don't think there are any."
      ]
    },
    {
      "cell_type": "markdown",
      "metadata": {
        "id": "vUwtgPEa5Q3c"
      },
      "source": [
        "For the following point\n",
        "\n",
        "|  A  |  B  |\n",
        "|-----|-----|\n",
        "| 0.5 |  1  |\n",
        "\n",
        "d) Plot it in a different color along with the rest of the points in the dataset."
      ]
    },
    {
      "cell_type": "code",
      "execution_count": 10,
      "metadata": {
        "colab": {
          "base_uri": "https://localhost:8080/",
          "height": 430
        },
        "id": "JwiFx1N35Q3c",
        "outputId": "02e180b1-0db2-40a7-cd82-4710d74d2894"
      },
      "outputs": [
        {
          "output_type": "display_data",
          "data": {
            "text/plain": [
              "<Figure size 640x480 with 1 Axes>"
            ],
            "image/png": "[encoded data removed]"
          },
          "metadata": {}
        }
      ],
      "source": [
        "location = (0.5, 1)\n",
        "\n",
        "plt.scatter(data[\"Attribute A\"], data[\"Attribute B\"], c=colors[data[\"Class\"]].tolist())\n",
        "plt.scatter(location[0], location[1],c='r', marker='x')\n",
        "plt.show()"
      ]
    },
    {
      "cell_type": "markdown",
      "metadata": {
        "id": "fA8OH_UF5Q3c"
      },
      "source": [
        "e) Write a function to compute the Euclidean distance from it to all points in the dataset and pick the 3 closest points to it. In a scatter plot, draw a circle centered around the point with radius the distance of the farthest of the three points."
      ]
    },
    {
      "cell_type": "code",
      "execution_count": 13,
      "metadata": {
        "colab": {
          "base_uri": "https://localhost:8080/",
          "height": 430
        },
        "id": "nfUirW9W5Q3c",
        "outputId": "d68251a4-9aef-4892-8ca0-1f275fda2234"
      },
      "outputs": [
        {
          "output_type": "display_data",
          "data": {
            "text/plain": [
              "<Figure size 640x480 with 1 Axes>"
            ],
            "image/png": "[encoded data removed]"
          },
          "metadata": {}
        }
      ],
      "source": [
        "def euclidean_distance(point1, point2):\n",
        "    return np.linalg.norm(np.array(point1) - np.array(point2))\n",
        "\n",
        "def n_closest_to(example, n, data):\n",
        "    distances = [(euclidean_distance(example, point), point) for point in zip(data[\"Attribute A\"], data[\"Attribute B\"])]\n",
        "    return sorted(distances, key=lambda x: x[0])[:n]\n",
        "\n",
        "closest_points = n_closest_to(location, 3, data)\n",
        "radius = closest_points[-1][0]\n",
        "_, axes = plt.subplots()\n",
        "\n",
        "axes.scatter(data[\"Attribute A\"], data[\"Attribute B\"], c=colors[data[\"Class\"]].tolist())\n",
        "axes.scatter(location[0], location[1], c='r', marker='x')\n",
        "\n",
        "axes.add_patch(plt.Circle(location, radius, fill = False, alpha=0.8))\n",
        "axes.set_aspect('equal') # necessary so that the circle is not oval\n",
        "plt.show()"
      ]
    },
    {
      "cell_type": "markdown",
      "metadata": {
        "id": "NoGXZcsG5Q3c"
      },
      "source": [
        "f) Write a function that takes the three points returned by your function in e) and returns the class that the majority of points have (break ties with a deterministic default class of your choosing). Print the class assigned to this new point by your function."
      ]
    },
    {
      "cell_type": "code",
      "execution_count": 14,
      "metadata": {
        "colab": {
          "base_uri": "https://localhost:8080/"
        },
        "id": "ixG5m7WH5Q3c",
        "outputId": "90696197-b57b-4e0a-f0a2-f0370ad5421e"
      },
      "outputs": [
        {
          "output_type": "stream",
          "name": "stdout",
          "text": [
            "The class with majority of points is Class 1\n"
          ]
        }
      ],
      "source": [
        "from collections import Counter\n",
        "\n",
        "def majority_class(closest_points, data):\n",
        "    indices = [data[\"Attribute A\"].index(point[0]) for _, point in closest_points]\n",
        "    classes = [data[\"Class\"][i] for i in indices]\n",
        "\n",
        "    count = Counter(classes)\n",
        "    # Find majority class (choose class 0 in case of a tie)\n",
        "    return count.most_common(1)[0][0]\n",
        "\n",
        "neighbors = n_closest_to(location, 3, data)\n",
        "\n",
        "print(\"The class with majority of points is Class\", majority_class(neighbors, data))"
      ]
    },
    {
      "cell_type": "markdown",
      "metadata": {
        "id": "DWoOJh8O5Q3c"
      },
      "source": [
        "g) Re-using the functions from e) and f), you should be able to assign a class to any new point. In this exercise we will implement Leave-one-out cross validiation in order to evaluate the performance of our model.\n",
        "\n",
        "For each point in the dataset:\n",
        "\n",
        "- consider that point as your test set and the rest of the data as your training set\n",
        "- classify that point using the training set\n",
        "- keep track of whether you were correct with the use of a counter\n",
        "\n",
        "Once you've iterated through the entire dataset, divide the counter by the number of points in the dataset to report an overall testing accuracy."
      ]
    },
    {
      "cell_type": "code",
      "execution_count": 18,
      "metadata": {
        "colab": {
          "base_uri": "https://localhost:8080/"
        },
        "id": "Xnx4lBr95Q3d",
        "outputId": "1d5a31a1-c243-439f-c1cb-b59c39a6825c"
      },
      "outputs": [
        {
          "output_type": "stream",
          "name": "stdout",
          "text": [
            "Overall accuracy =  0.6\n"
          ]
        }
      ],
      "source": [
        "count = 0\n",
        "for i in range(len(data[\"Attribute A\"])):\n",
        "    actual_class = data[\"Class\"][i]\n",
        "\n",
        "    training_data = list(zip(data[\"Attribute A\"], data[\"Attribute B\"], data[\"Class\"]))\n",
        "    del training_data[i]\n",
        "\n",
        "    training_set = {\n",
        "        \"Attribute A\": [x[0] for x in training_data],\n",
        "        \"Attribute B\": [x[1] for x in training_data],\n",
        "        \"Class\": [x[2] for x in training_data]\n",
        "    }\n",
        "\n",
        "    point_current = (data[\"Attribute A\"][i], data[\"Attribute B\"][i])\n",
        "    closest_points = n_closest_to(point_current, 3, training_set)\n",
        "    prediction = majority_class(closest_points, training_set)\n",
        "\n",
        "    if prediction == actual_class:\n",
        "        count += 1\n",
        "\n",
        "print(\"Overall accuracy = \", count / len(data['Attribute A']))"
      ]
    }
  ],
  "metadata": {
    "interpreter": {
      "hash": "76ca05dc3ea24b2e3b98cdb7774adfbb40773424bf5109b477fd793f623715af"
    },
    "kernelspec": {
      "display_name": "Python 3.9.9 64-bit ('env': venv)",
      "language": "python",
      "name": "python3"
    },
    "language_info": {
      "codemirror_mode": {
        "name": "ipython",
        "version": 3
      },
      "file_extension": ".py",
      "mimetype": "text/x-python",
      "name": "python",
      "nbconvert_exporter": "python",
      "pygments_lexer": "ipython3",
      "version": "3.11.1"
    },
    "orig_nbformat": 4,
    "colab": {
      "provenance": []
    }
  },
  "nbformat": 4,
  "nbformat_minor": 0
}