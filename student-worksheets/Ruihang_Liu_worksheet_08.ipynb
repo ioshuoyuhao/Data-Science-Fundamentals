{
 "cells": [
  {
   "attachments": {},
   "cell_type": "markdown",
   "metadata": {},
   "source": [
    "# Worksheet 08\n",
    "\n",
    "Name: Ruihang Liu\n",
    "UID: U49596386\n",
    "\n",
    "### Topics\n",
    "\n",
    "- Soft Clustering\n",
    "- Clustering Aggregation\n",
    "\n",
    "### Probability Review\n",
    "\n",
    "Read through [the following](https://medium.com/@gallettilance/overview-of-probability-3272b72c82c8)"
   ]
  },
  {
   "cell_type": "markdown",
   "metadata": {},
   "source": [
    "Trying to figure out what species does this dianasour belong to based on its weight. To do that we need:\n",
    "\n",
    "$Baye's Rule: Pr(S_i | X_j) = \\frac{P(X_i|S_j)P(S_j)}{P(X_i)}$\n",
    "\n",
    "* $P(S_j)$ is the prior probability of seeing species $S_j$ (that probability would be higher for the Stegosauruses than the Raptors for example). \n",
    "* $P(X_i | S_j)$ is the **PDF** of species $S_j$ weights evaluated at weight $X_i$ (seeing a Sauropod that weighs 100 tons is way more likely than seeing a Raptor that weighs 100 tons)"
   ]
  },
  {
   "cell_type": "markdown",
   "metadata": {},
   "source": [
    "### Soft Clustering\n",
    "\n",
    "We generate 10 data points that come from a normal distribution with mean 5 and variance 1."
   ]
  },
  {
   "cell_type": "code",
   "execution_count": 1,
   "metadata": {},
   "outputs": [
    {
     "name": "stdout",
     "output_type": "stream",
     "text": [
      "[6.229091762575663, 5.170364848697103, 5.226742914022274, 7.5435729935589855, 4.418031171433688, 5.00661827071544, 4.855897046499944, 5.042059952170689, 6.11459041962991, 3.5764282007386003]\n"
     ]
    }
   ],
   "source": [
    "import random\n",
    "import numpy as np\n",
    "from sklearn.cluster import KMeans\n",
    "\n",
    "mean = 5\n",
    "stdev = 1\n",
    "\n",
    "c1 = np.random.normal(mean, stdev, 10).tolist()\n",
    "print(c1)"
   ]
  },
  {
   "cell_type": "markdown",
   "metadata": {},
   "source": [
    "a) Generate 10 more data points, this time coming from a normal distribution with mean 8 and variance 1."
   ]
  },
  {
   "cell_type": "code",
   "execution_count": 2,
   "metadata": {},
   "outputs": [
    {
     "name": "stdout",
     "output_type": "stream",
     "text": [
      "[7.155292979375972, 6.846941952261757, 6.975779026602272, 7.258233085259429, 7.5369406404855495, 9.051699741279403, 8.9771596252398, 8.94720955166336, 10.595528963492638, 8.465420218494923]\n"
     ]
    }
   ],
   "source": [
    "c2 = np.random.normal(8 , 1 , 10 ).tolist()\n",
    "print(c2)"
   ]
  },
  {
   "cell_type": "markdown",
   "metadata": {},
   "source": [
    "b) Flip a fair coin 10 times. If the coin lands on H, then pick the last data point of `c1` and remove it from `c1`, if T then pick the last data point from `c2` and remove it from `c2`. Add these 10 points to a list called `data`."
   ]
  },
  {
   "cell_type": "code",
   "execution_count": 3,
   "metadata": {},
   "outputs": [
    {
     "name": "stdout",
     "output_type": "stream",
     "text": [
      "[3.5764282007386003, 6.11459041962991, 5.042059952170689, 4.855897046499944, 5.00661827071544, 8.465420218494923, 4.418031171433688, 7.5435729935589855, 5.226742914022274, 5.170364848697103]\n"
     ]
    }
   ],
   "source": [
    "data = []\n",
    "for i in range(10):\n",
    "    # flip coin\n",
    "    coin_output = random.choice([0, 1])\n",
    "    if coin_output == 0:\n",
    "        p1 = c1.pop()\n",
    "        data.append(p1)\n",
    "    else:\n",
    "        p2 = c2.pop()\n",
    "        data.append(p2)\n",
    "print(data)"
   ]
  },
  {
   "cell_type": "markdown",
   "metadata": {},
   "source": [
    "Mixture Model:\n",
    "* X comes from a mixture model with k mixture components if the prob distribution of X is $P(X = x) = \\sum_{j=1}^{k}P(C_j)P(X = x | C_j)$"
   ]
  },
  {
   "cell_type": "markdown",
   "metadata": {},
   "source": [
    "c) This `data` is a Gaussian Mixture Distribution with 2 mixture components. Over the next few questions we will walk through the GMM algorithm to see if we can uncover the parameters we used to generate this data. First, please list all these parameters of the GMM that created `data` and the values we know they have."
   ]
  },
  {
   "cell_type": "markdown",
   "metadata": {},
   "source": [
    "For each individual probability's\n",
    "1. mean\n",
    "2. variance\n",
    "\n",
    "And a probaility of x being i-th species (in our example, it's 1/2 - coin toss)"
   ]
  },
  {
   "cell_type": "markdown",
   "metadata": {},
   "source": [
    "**Gaussian Mixture Model**: when all $P(X | S_j)$ are normal distribution with parameters:\n",
    "\n",
    "1. mean\n",
    "2. std"
   ]
  },
  {
   "cell_type": "markdown",
   "metadata": {},
   "source": [
    "Expectation Maximization Algorithm (EM):\n",
    "\n",
    "1. Start with random $\\mu, \\sum, P(S_j)$\n",
    "2. Compute $P(C_j | X_I)$ for all Xi by using $\\mu, \\sum, P(S_j)$\n",
    "3. Compute / Update $\\mu, \\sum, P(S_j)$ from $P(C_j | X_I)$\n",
    "4. Repeat 2 & 3 until convergence"
   ]
  },
  {
   "cell_type": "markdown",
   "metadata": {},
   "source": [
    "d) Let's assume there are two mixture components (note: we could plot the data and make the observation that there are two clusters). The EM algorithm asks us to start with a random `mean_j`, `variance_j`, `P(C_j)` for each component j. One method we could use to find sensible values for these is to apply K means with k=2 here.\n",
    "\n",
    "1. the centroids would be the estimates of the `mean_j`\n",
    "2. the intra-cluster variance could be the estimate of `variance_j`\n",
    "3. the proportion of points in each cluster could be the estimate of `P(C_j)`\n",
    "\n",
    "Go through this process and list the parameter estimates it gives. Are they close or far from the true values?"
   ]
  },
  {
   "cell_type": "code",
   "execution_count": 4,
   "metadata": {},
   "outputs": [
    {
     "name": "stdout",
     "output_type": "stream",
     "text": [
      "[3.5764282007386003, 6.11459041962991, 5.042059952170689, 4.855897046499944, 5.00661827071544, 4.418031171433688, 5.226742914022274, 5.170364848697103]\n",
      "[8.465420218494923, 7.5435729935589855]\n",
      "P(C_1) = 0.8,  P(C_2) = 0.2\n",
      "mean_1 = 4.926341602988456,  mean_2 = 8.004496606026954\n",
      "var_1 = 0.4583958432532104,  var_2 = 9.687488799261459\n"
     ]
    }
   ],
   "source": [
    "kmeans = KMeans(2, init='k-means++').fit(X=np.array(data).reshape(-1, 1))\n",
    "\n",
    "c1 = [x[0] for x in filter(lambda x: x[1] == 0, zip(data, kmeans.labels_))]\n",
    "print(c1)\n",
    "c2 = [x[0] for x in filter(lambda x: x[1] != 0, zip(data, kmeans.labels_))]\n",
    "print(c2)\n",
    "\n",
    "prob_c = [ len(c1) / (len(c1) + len(c2)) , len(c2) / (len(c1) + len(c2)) ]\n",
    "mean = [ sum(c1)/len(c1) , sum(c2)/len(c2)  ]\n",
    "var = [ sum(map(lambda x : (x - mean[0])**2, c1)) / len(c1) , sum(map(lambda x : (x - mean[0])**2, c2)) / len(c2) ]\n",
    "\n",
    "print(\"P(C_1) = \" + str(prob_c[0]) + \",  P(C_2) = \" + str(prob_c[1]))\n",
    "print(\"mean_1 = \" + str(mean[0]) + \",  mean_2 = \" + str(mean[1]))\n",
    "print(\"var_1 = \" + str(var[0]) + \",  var_2 = \" + str(var[1]))"
   ]
  },
  {
   "cell_type": "markdown",
   "metadata": {},
   "source": [
    "Means are pretty close. But variance is a bit off."
   ]
  },
  {
   "cell_type": "markdown",
   "metadata": {},
   "source": [
    "e) For each data point, compute `P(C_j | X_i)`. Comment on which cluster you think each point belongs to based on the estimated probabilities. How does that compare to the truth?"
   ]
  },
  {
   "cell_type": "code",
   "execution_count": 5,
   "metadata": {},
   "outputs": [
    {
     "name": "stdout",
     "output_type": "stream",
     "text": [
      "point =  3.5764282007386003\n",
      "probability of observing that point if it came from cluster 0 =  0.01138990036621079\n",
      "probability of observing that point if it came from cluster 1 =  0.03709622474735474\n",
      "point =  6.11459041962991\n",
      "probability of observing that point if it came from cluster 0 =  0.030238506140661366\n",
      "probability of observing that point if it came from cluster 1 =  0.040404936856384466\n",
      "point =  5.042059952170689\n",
      "probability of observing that point if it came from cluster 0 =  0.8430071617599713\n",
      "probability of observing that point if it came from cluster 1 =  0.039300003419783305\n",
      "point =  4.855897046499944\n",
      "probability of observing that point if it came from cluster 0 =  0.8600845786463225\n",
      "probability of observing that point if it came from cluster 1 =  0.039062520339641235\n",
      "point =  5.00661827071544\n",
      "probability of observing that point if it came from cluster 0 =  0.8570570690023374\n",
      "probability of observing that point if it came from cluster 1 =  0.039255797612375874\n",
      "point =  8.465420218494923\n",
      "probability of observing that point if it came from cluster 0 =  9.911051741409524e-14\n",
      "probability of observing that point if it came from cluster 1 =  0.04113459989730653\n",
      "point =  4.418031171433688\n",
      "probability of observing that point if it came from cluster 0 =  0.4706057704138073\n",
      "probability of observing that point if it came from cluster 1 =  0.038453567882816016\n",
      "point =  7.5435729935589855\n",
      "probability of observing that point if it came from cluster 0 =  7.259537553682838e-08\n",
      "probability of observing that point if it came from cluster 1 =  0.04113459989730653\n",
      "point =  5.226742914022274\n",
      "probability of observing that point if it came from cluster 0 =  0.7021233718717609\n",
      "probability of observing that point if it came from cluster 1 =  0.03952260094541849\n",
      "point =  5.170364848697103\n",
      "probability of observing that point if it came from cluster 0 =  0.75532268672873\n",
      "probability of observing that point if it came from cluster 1 =  0.03945603592356775\n",
      "3.5764282007386003\n",
      "Probability of coming from C_1 = 0.5511964921611263\n",
      "Probability of coming from C_2 = 0.4488035078388736\n",
      "\n",
      "6.11459041962991\n",
      "Probability of coming from C_1 = 0.7495959536362057\n",
      "Probability of coming from C_2 = 0.2504040463637943\n",
      "\n",
      "5.042059952170689\n",
      "Probability of coming from C_1 = 0.9884795610606185\n",
      "Probability of coming from C_2 = 0.011520438939381499\n",
      "\n",
      "4.855897046499944\n",
      "Probability of coming from C_1 = 0.9887732048726476\n",
      "Probability of coming from C_2 = 0.011226795127352442\n",
      "\n",
      "5.00661827071544\n",
      "Probability of coming from C_1 = 0.9886788816389936\n",
      "Probability of coming from C_2 = 0.011321118361006311\n",
      "\n",
      "8.465420218494923\n",
      "Probability of coming from C_1 = 9.637679001188461e-12\n",
      "Probability of coming from C_2 = 0.9999999999903623\n",
      "\n",
      "4.418031171433688\n",
      "Probability of coming from C_1 = 0.9799812403924719\n",
      "Probability of coming from C_2 = 0.020018759607528042\n",
      "\n",
      "7.5435729935589855\n",
      "Probability of coming from C_1 = 7.059250679390005e-06\n",
      "Probability of coming from C_2 = 0.9999929407493205\n",
      "\n",
      "5.226742914022274\n",
      "Probability of coming from C_1 = 0.9861227606452281\n",
      "Probability of coming from C_2 = 0.013877239354771899\n",
      "\n",
      "5.170364848697103\n",
      "Probability of coming from C_1 = 0.9871090166149005\n",
      "Probability of coming from C_2 = 0.012890983385099518\n",
      "\n"
     ]
    }
   ],
   "source": [
    "from scipy.stats import norm\n",
    "\n",
    "prob_c0_x = [] # P(C_0 | X_i)\n",
    "prob_c1_x = [] # P(C_1 | X_i)\n",
    "prob_x = [] # P(X_i)\n",
    "\n",
    "k = 2\n",
    "\n",
    "for p in data:\n",
    "    print(\"point = \", p)\n",
    "    pdf_i = []\n",
    "\n",
    "    for j in range(k):\n",
    "        # P(X_i | C_j)\n",
    "        pdf_i.append(norm.pdf(p, mean[j], var[j]))\n",
    "        print(\"probability of observing that point if it came from cluster \" + str(j) + \" = \", pdf_i[j])\n",
    "        # P(C_j) already computed\n",
    "        prob_c[j]\n",
    "\n",
    "    # P(X_i) = P(C_0)P(X_i | C_0) + P(C_1)P(X_i | C_1)\n",
    "    prob_x = prob_c[0] * pdf_i[0] + prob_c[1] * pdf_i[1]\n",
    "\n",
    "    # P(C_j | X_i) = P(X_i | C_j)P(C_j) / P(X_i)\n",
    "    prob_c0_x.append(pdf_i[0] * prob_c[0] / prob_x )\n",
    "    prob_c1_x.append(pdf_i[1] * prob_c[1] / prob_x )\n",
    "\n",
    "probs = zip(data, prob_c0_x, prob_c1_x)\n",
    "for p in probs:\n",
    "    print(p[0])\n",
    "    print(\"Probability of coming from C_1 = \" + str(p[1]))\n",
    "    print(\"Probability of coming from C_2 = \" + str(p[2]))\n",
    "    print()\n"
   ]
  },
  {
   "cell_type": "markdown",
   "metadata": {},
   "source": [
    "f) Having computed `P(C_j | X_i)`, update the estimates of `mean_j`, `var_j`, and `P(C_j)`. How different are these values from the original ones you got from K means? briefly comment."
   ]
  },
  {
   "cell_type": "code",
   "execution_count": 6,
   "metadata": {},
   "outputs": [
    {
     "name": "stdout",
     "output_type": "stream",
     "text": [
      "P(C_1) = 0.7219944170282508,  P(C_2) = 0.27800558297174904\n",
      "mean_1 = 4.969241139253586,  mean_2 = 7.029384889678809\n",
      "var_1 = 0.34280856199993603,  var_2 = 2.9705130816270593\n"
     ]
    }
   ],
   "source": [
    "prob_c = [sum(prob_c0_x)/ len(prob_c0_x), sum(prob_c1_x)/ len(prob_c1_x) ]\n",
    "mean = [sum([x[0] * x[1] for x in zip(prob_c0_x, data)]) / sum(prob_c0_x), \n",
    "        sum([x[0] * x[1] for x in zip(prob_c1_x, data)]) / sum(prob_c1_x) ]\n",
    "var = [sum([x[0] * (x[1] - mean[0]) ** 2 for x in zip(prob_c0_x, data)]) / sum(prob_c0_x),\n",
    "       sum([x[0] * (x[1] - mean[1]) ** 2 for x in zip(prob_c1_x, data)]) / sum(prob_c1_x)]\n",
    "\n",
    "print(\"P(C_1) = \" + str(prob_c[0]) + \",  P(C_2) = \" + str(prob_c[1]))\n",
    "print(\"mean_1 = \" + str(mean[0]) + \",  mean_2 = \" + str(mean[1]))\n",
    "print(\"var_1 = \" + str(var[0]) + \",  var_2 = \" + str(var[1]))"
   ]
  },
  {
   "cell_type": "markdown",
   "metadata": {},
   "source": [
    "Pretty different. Now it's much more likely to be classified to C2. And the variable is much lower than k-mean."
   ]
  },
  {
   "cell_type": "markdown",
   "metadata": {},
   "source": [
    "g) Update `P(C_j | X_i)`. Comment on any differences or lack thereof you observe."
   ]
  },
  {
   "cell_type": "code",
   "execution_count": 7,
   "metadata": {},
   "outputs": [
    {
     "name": "stdout",
     "output_type": "stream",
     "text": [
      "point =  3.5764282007386003\n",
      "probability of observing that point if it came from cluster 0 =  0.0003028952168903071\n",
      "probability of observing that point if it came from cluster 1 =  0.06833913165581684\n",
      "point =  6.11459041962991\n",
      "probability of observing that point if it came from cluster 0 =  0.0043842000681968505\n",
      "probability of observing that point if it came from cluster 1 =  0.12808099837409262\n",
      "point =  5.042059952170689\n",
      "probability of observing that point if it came from cluster 0 =  1.1377854836893446\n",
      "probability of observing that point if it came from cluster 1 =  0.10737097698133535\n",
      "point =  4.855897046499944\n",
      "probability of observing that point if it came from cluster 0 =  1.101844101968907\n",
      "probability of observing that point if it came from cluster 1 =  0.1027602513411218\n",
      "point =  5.00661827071544\n",
      "probability of observing that point if it came from cluster 0 =  1.1568497582289516\n",
      "probability of observing that point if it came from cluster 1 =  0.1065097552273294\n",
      "point =  8.465420218494923\n",
      "probability of observing that point if it came from cluster 0 =  3.0193249934053276e-23\n",
      "probability of observing that point if it came from cluster 1 =  0.11948964797485981\n",
      "point =  4.418031171433688\n",
      "probability of observing that point if it came from cluster 0 =  0.3194787474962818\n",
      "probability of observing that point if it came from cluster 1 =  0.09125710467666384\n",
      "point =  7.5435729935589855\n",
      "probability of observing that point if it came from cluster 0 =  6.610872373220693e-13\n",
      "probability of observing that point if it came from cluster 1 =  0.13230378731599832\n",
      "point =  5.226742914022274\n",
      "probability of observing that point if it came from cluster 0 =  0.877681910112135\n",
      "probability of observing that point if it came from cluster 1 =  0.1117150495699017\n",
      "point =  5.170364848697103\n",
      "probability of observing that point if it came from cluster 0 =  0.9797475789761516\n",
      "probability of observing that point if it came from cluster 1 =  0.11041586888914623\n",
      "3.5764282007386003\n",
      "Probability of coming from C_1 = 0.011379751593955113\n",
      "Probability of coming from C_2 = 0.9886202484060448\n",
      "\n",
      "6.11459041962991\n",
      "Probability of coming from C_1 = 0.08163930002021148\n",
      "Probability of coming from C_2 = 0.9183606999797885\n",
      "\n",
      "5.042059952170689\n",
      "Probability of coming from C_1 = 0.9649373052010903\n",
      "Probability of coming from C_2 = 0.035062694798909666\n",
      "\n",
      "4.855897046499944\n",
      "Probability of coming from C_1 = 0.9653341113509285\n",
      "Probability of coming from C_2 = 0.03466588864907151\n",
      "\n",
      "5.00661827071544\n",
      "Probability of coming from C_1 = 0.9657624697367031\n",
      "Probability of coming from C_2 = 0.03423753026329691\n",
      "\n",
      "8.465420218494923\n",
      "Probability of coming from C_1 = 6.562357743980504e-22\n",
      "Probability of coming from C_2 = 1.0\n",
      "\n",
      "4.418031171433688\n",
      "Probability of coming from C_1 = 0.9009108283666619\n",
      "Probability of coming from C_2 = 0.09908917163333807\n",
      "\n",
      "7.5435729935589855\n",
      "Probability of coming from C_1 = 1.2976776302134685e-11\n",
      "Probability of coming from C_2 = 0.9999999999870233\n",
      "\n",
      "5.226742914022274\n",
      "Probability of coming from C_1 = 0.9532787836223909\n",
      "Probability of coming from C_2 = 0.046721216377609086\n",
      "\n",
      "5.170364848697103\n",
      "Probability of coming from C_1 = 0.9584100560055476\n",
      "Probability of coming from C_2 = 0.04158994399445237\n",
      "\n"
     ]
    }
   ],
   "source": [
    "prob_c0_x = [] # P(C_0 | X_i)\n",
    "prob_c1_x = [] # P(C_1 | X_i)\n",
    "prob_x = [] # P(X_i)\n",
    "\n",
    "k = 2\n",
    "\n",
    "for p in data:\n",
    "    print(\"point = \", p)\n",
    "    pdf_i = []\n",
    "\n",
    "    for j in range(k):\n",
    "        # P(X_i | C_j)\n",
    "        pdf_i.append(norm.pdf(p, mean[j], var[j]))\n",
    "        print(\"probability of observing that point if it came from cluster \" + str(j) + \" = \", pdf_i[j])\n",
    "        # P(C_j) already computed\n",
    "        prob_c[j]\n",
    "\n",
    "    # P(X_i) = P(C_0)P(X_i | C_0) + P(C_1)P(X_i | C_1)\n",
    "    prob_x = prob_c[0] * pdf_i[0] + prob_c[1] * pdf_i[1]\n",
    "\n",
    "    # P(C_j | X_i) = P(X_i | C_j)P(C_j) / P(X_i)\n",
    "    prob_c0_x.append(pdf_i[0] * prob_c[0] / prob_x )\n",
    "    prob_c1_x.append(pdf_i[1] * prob_c[1] / prob_x )\n",
    "\n",
    "probs = zip(data, prob_c0_x, prob_c1_x)\n",
    "for p in probs:\n",
    "    print(p[0])\n",
    "    print(\"Probability of coming from C_1 = \" + str(p[1]))\n",
    "    print(\"Probability of coming from C_2 = \" + str(p[2]))\n",
    "    print()\n"
   ]
  },
  {
   "cell_type": "markdown",
   "metadata": {},
   "source": [
    "It becomes just a bit more certain that it comes from C_1."
   ]
  },
  {
   "cell_type": "markdown",
   "metadata": {},
   "source": [
    "h) Use `P(C_j | X_i)` to create a hard assignment - label each point as belonging to a specific cluster (0 or 1)"
   ]
  },
  {
   "cell_type": "code",
   "execution_count": 8,
   "metadata": {},
   "outputs": [
    {
     "name": "stdout",
     "output_type": "stream",
     "text": [
      "points in cluster 0 : [5.042059952170689, 4.855897046499944, 5.00661827071544, 4.418031171433688, 5.226742914022274, 5.170364848697103]\n",
      "points in cluster 1 : [3.5764282007386003, 6.11459041962991, 8.465420218494923, 7.5435729935589855]\n"
     ]
    }
   ],
   "source": [
    "assignments = [[], []]\n",
    "for x in zip(data, prob_c0_x):\n",
    "    p = x[1]\n",
    "    d = x[0]\n",
    "    if random.random() <= p:\n",
    "        assignments[0].append(d)\n",
    "    else:\n",
    "        assignments[1].append(d)\n",
    "print(f\"points in cluster 0 : {assignments[0]}\\npoints in cluster 1 : {assignments[1]}\")"
   ]
  }
 ],
 "metadata": {
  "interpreter": {
   "hash": "76ca05dc3ea24b2e3b98cdb7774adfbb40773424bf5109b477fd793f623715af"
  },
  "kernelspec": {
   "display_name": "Python 3.9.9 64-bit ('env': venv)",
   "language": "python",
   "name": "python3"
  },
  "language_info": {
   "codemirror_mode": {
    "name": "ipython",
    "version": 3
   },
   "file_extension": ".py",
   "mimetype": "text/x-python",
   "name": "python",
   "nbconvert_exporter": "python",
   "pygments_lexer": "ipython3",
   "version": "3.9.13"
  },
  "orig_nbformat": 4
 },
 "nbformat": 4,
 "nbformat_minor": 2
}
