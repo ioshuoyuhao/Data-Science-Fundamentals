{
 "cells": [
  {
   "attachments": {},
   "cell_type": "markdown",
   "metadata": {},
   "source": [
    "# Worksheet 02\n",
    "\n",
    "Name:  Haoxiang Huo\n",
    "UID: U13668934\n",
    "\n",
    "### Topics\n",
    "\n",
    "- Effective Programming\n",
    "\n",
    "### Effective Programming\n",
    "\n",
    "a) What is a drawback of the top down approach?"
   ]
  },
  {
   "cell_type": "markdown",
   "metadata": {},
   "source": [
    "It may be time consuming for some simple debugging in comparison to bottom-up approach. Can be the case that  wasting time examining high-level components that are actually working correctly. Moreover, it may lack of precision in some cases since the top down method is not always the most efficient way to pinpoint lower-level bugs that only manifest under very specific conditions.Some bugs might be so subtle that they don't produce observable high-level symptoms. In a top-down approach, you might overlook these entirely."
   ]
  },
  {
   "cell_type": "markdown",
   "metadata": {},
   "source": [
    "b) What is a drawback of the bottom up approach?"
   ]
  },
  {
   "cell_type": "markdown",
   "metadata": {},
   "source": [
    "We as a engineer may have limited scope if we apply bottom up approach for debugging by focus on low level bugs since working from the bottom-up usually requires deep knowledge of the particular module or function you're working on but might not give you the breadth of understanding that could accelerate debugging at higher levels of abstraction.And it can be complex and time consuming as understanding how low-level code affects higher-level components may require sifting through many layers of logic and dependencies. And you may have difficult time in communicate with team members since low level bugs is too details for other members working on other feature or part of the project."
   ]
  },
  {
   "cell_type": "markdown",
   "metadata": {},
   "source": [
    "c) What are 3 things you can do to have a better debugging experience?"
   ]
  },
  {
   "cell_type": "markdown",
   "metadata": {},
   "source": [
    "1. Read the error and reread ur code and be patient. Like analyse the message before error by what, where, why, etc.\n",
    "2. Sanity check where u can and looking for online resources to help. Think of is everything set up properly? Are the things that are supposed to communicate actually\n",
    "communicating?\n",
    "3. Do not be panic and take breaks whenever u need and then come back"
   ]
  },
  {
   "attachments": {},
   "cell_type": "markdown",
   "metadata": {},
   "source": [
    "d) Follow along with the live coding. You can write your code here:"
   ]
  },
  {
   "cell_type": "code",
   "execution_count": null,
   "metadata": {},
   "outputs": [],
   "source": [
    "#8-queen\n",
    "class Board:\n",
    "    def __init__(self) :\n",
    "        self.board = [[\"_\" for _ in range (8)] for _ in range(8)]\n",
    "         \n",
    "    def __repr__(self):\n",
    "         res =\"\"\n",
    "         for row in self.board:\n",
    "            for col in row:\n",
    "                res+=col\n",
    "                res+= \" \"\n",
    "            res+= \"\\n\"\n",
    "         return res\n",
    "\n",
    "    def is_legal_row(self,row,col):\n",
    "        for j in range(len(self.board)):\n",
    "            if self.board[row][j] == \"Q\":\n",
    "                return False\n",
    "        return True\n",
    "\n",
    "    def is_legal_col(self,row,col):\n",
    "        for i in range(len(self.board)):\n",
    "            if self.board[i][col] == \"Q\":\n",
    "                return False\n",
    "        return True\n",
    " \n",
    "    def is_on_board (self,row,col):\n",
    "        return row>=0 and row<8 and col>=0 and col<8\n",
    "\n",
    "    def is_legal_diag(self,row,col):\n",
    "         for i in range(len(self.board)):\n",
    "             if self.is_on_board(row -i, col -i) and self.board[row-i][col-i] == \"Q\":\n",
    "                return False\n",
    "             if self.is_on_board(row -i, col +i) and self.board[row-i][col+i] == \"Q\":\n",
    "                return False\n",
    "             if self.is_on_board(row +i, col -i) and self.board[row+i][col-i] == \"Q\":\n",
    "                return False\n",
    "             if self.is_on_board(row +i, col +i) and self.board[row+i][col+i] == \"Q\":\n",
    "                 return False\n",
    "         return True\n",
    "\n",
    "    def is_legal(self, row, col):\n",
    "        if not self.is_legal_row(row,col):\n",
    "             return False\n",
    "        if not self.is_legal_col(row,col):\n",
    "             return False\n",
    "        if not self.is_legal_diag(row,col):\n",
    "            return False\n",
    "        return True\n",
    "\n",
    "    def set_queen_at (self,row,col):\n",
    "        self.board[row][col] = \"Q\"\n",
    "\n",
    "    def unset_queen_on(self,row):\n",
    "         self.board[row] = [\"_\" for _ in range(8)]\n",
    "\n",
    "    def get_queen_on(self,row):\n",
    "        for col in range(len(self.board)):\n",
    "            if self.board[row][col] == \"Q\":\n",
    "                return col\n",
    "        raise ValueError(\"programmer error\")\n",
    " \n",
    "    def search(self):\n",
    "        row = 0\n",
    "        col = 0\n",
    "        nsol = 0\n",
    "        while row >=0 :\n",
    "            if row < 8: # check if need backtracking\n",
    "                if self.is_legal(row,col):\n",
    "                    self.set_queen_at(row,col)\n",
    "                    row += 1\n",
    "                    col = 0\n",
    "                else:\n",
    "                    col += 1\n",
    "                    while col >= 8:\n",
    "                        col = self.get_queen_on(row-1)\n",
    "                        self.unset_queen_on(row-1)\n",
    "                        col += 1\n",
    "                        row -= 1\n",
    "            else:\n",
    "                nsol += 1\n",
    "                print(\"find a solution number\", nsol)\n",
    "                print(self)\n",
    "                row -=1     # only do this backtracking if we in while loop\n",
    "                col = self.get_queen_on(row)\n",
    "                self.unset_queen_on(row) \n",
    "                while col >= 8:\n",
    "                    row -=1\n",
    "                    col = self.get_queen_on(row)\n",
    "                    self.unset_queen_on(row) \n",
    "                    col += 1\n",
    "\n",
    "my_board = Board()\n",
    "print(my_board)\n",
    "#my_board.search()"
   ]
  }
 ],
 "metadata": {
  "kernelspec": {
   "display_name": "Python 3.11.0 64-bit",
   "language": "python",
   "name": "python3"
  },
  "language_info": {
   "name": "python",
   "version": "3.11.0"
  },
  "orig_nbformat": 4,
  "vscode": {
   "interpreter": {
    "hash": "ff4b1fca65a764b45acb559e482afe389d289dd599b9f8c5fd12ff5c2ea46a65"
   }
  }
 },
 "nbformat": 4,
 "nbformat_minor": 2
}
