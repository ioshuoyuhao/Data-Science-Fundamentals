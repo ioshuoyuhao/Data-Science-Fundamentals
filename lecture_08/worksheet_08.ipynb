{
 "cells": [
  {
   "attachments": {},
   "cell_type": "markdown",
   "metadata": {},
   "source": [
    "# Worksheet 08\n",
    "\n",
    "Name:  \n",
    "UID: \n",
    "\n",
    "### Topics\n",
    "\n",
    "- Soft Clustering\n",
    "- Clustering Aggregation\n",
    "\n",
    "### Probability Review\n",
    "\n",
    "Read through [the following](https://medium.com/@gallettilance/overview-of-probability-3272b72c82c8)\n",
    "\n",
    "### Soft Clustering\n",
    "\n",
    "We generate 10 data points that come from a normal distribution with mean 5 and variance 1."
   ]
  },
  {
   "cell_type": "code",
   "execution_count": null,
   "metadata": {},
   "outputs": [],
   "source": [
    "import random\n",
    "import numpy as np\n",
    "from sklearn.cluster import KMeans\n",
    "\n",
    "mean = 5\n",
    "stdev = 1\n",
    "\n",
    "s1 = np.random.normal(mean, stdev, 10).tolist()\n",
    "print(s1)"
   ]
  },
  {
   "cell_type": "markdown",
   "metadata": {},
   "source": [
    "a) Generate 10 more data points, this time coming from a normal distribution with mean 8 and variance 1."
   ]
  },
  {
   "cell_type": "code",
   "execution_count": null,
   "metadata": {},
   "outputs": [],
   "source": [
    "s2 = np.random.normal( ... , ... , ... ).tolist()\n",
    "print(s2)"
   ]
  },
  {
   "cell_type": "markdown",
   "metadata": {},
   "source": [
    "b) Flip a fair coin 10 times. If the coin lands on H, then pick the last data point of `c1` and remove it from `c1`, if T then pick the last data point from `c2` and remove it from `c2`. Add these 10 points to a list called `data`."
   ]
  },
  {
   "cell_type": "code",
   "execution_count": null,
   "metadata": {},
   "outputs": [],
   "source": [
    "data = []\n",
    "for i in range(10):\n",
    "    # flip coin\n",
    "    coin_output = random.choice([0, 1])\n",
    "    if coin_output == 0:\n",
    "        p1 = ...\n",
    "        data.append(p1)\n",
    "    else:\n",
    "        p2 = ...\n",
    "        data.append(p2)\n",
    "print(data)"
   ]
  },
  {
   "cell_type": "markdown",
   "metadata": {},
   "source": [
    "c) This `data` is a Gaussian Mixture Distribution with 2 mixture components. Over the next few questions we will walk through the GMM algorithm to see if we can uncover the parameters we used to generate this data. First, please list all these parameters of the GMM that created `data` and the values we know they have."
   ]
  },
  {
   "cell_type": "markdown",
   "metadata": {},
   "source": []
  },
  {
   "cell_type": "markdown",
   "metadata": {},
   "source": [
    "d) Let's assume there are two mixture components (note: we could plot the data and make the observation that there are two clusters). The EM algorithm asks us to start with a random `mean_j`, `variance_j`, `P(S_j)` for each component j. One method we could use to find sensible values for these is to apply K means with k=2 here.\n",
    "\n",
    "1. the centroids would be the estimates of the `mean_j`\n",
    "2. the intra-cluster variance could be the estimate of `variance_j`\n",
    "3. the proportion of points in each cluster could be the estimate of `P(S_j)`\n",
    "\n",
    "Go through this process and list the parameter estimates it gives. Are they close or far from the true values?"
   ]
  },
  {
   "cell_type": "code",
   "execution_count": null,
   "metadata": {},
   "outputs": [],
   "source": [
    "kmeans = KMeans(2, init='k-means++').fit(X=np.array(data).reshape(-1, 1))\n",
    "\n",
    "s1 = [x[0] for x in filter(lambda x: x[1] == 0, zip(data, kmeans.labels_))]\n",
    "print(s1)\n",
    "s2 = ...\n",
    "print(s2)\n",
    "\n",
    "prob_s = [ len(s1) / (len(s1) + len(s2)) , ... ]\n",
    "mean = [ sum(s1)/len(s1) , ... ]\n",
    "var = [ sum(map(lambda x : (x - mean[0])**2, s1)) / len(s1) , ... ]\n",
    "\n",
    "print(\"P(S_1) = \" + str(prob_s[0]) + \",  P(S_2) = \" + str(prob_s[1]))\n",
    "print(\"mean_1 = \" + str(mean[0]) + \",  mean_2 = \" + str(mean[1]))\n",
    "print(\"var_1 = \" + str(var[0]) + \",  var_2 = \" + str(var[1]))"
   ]
  },
  {
   "cell_type": "markdown",
   "metadata": {},
   "source": []
  },
  {
   "cell_type": "markdown",
   "metadata": {},
   "source": [
    "e) For each data point, compute `P(S_j | X_i)`. Comment on which cluster you think each point belongs to based on the estimated probabilities. How does that compare to the truth?"
   ]
  },
  {
   "cell_type": "code",
   "execution_count": null,
   "metadata": {},
   "outputs": [],
   "source": [
    "from scipy.stats import norm\n",
    "\n",
    "prob_s0_x = [] # P(S_0 | X_i)\n",
    "prob_s1_x = [] # P(S_1 | X_i)\n",
    "prob_x = [] # P(X_i)\n",
    "\n",
    "k = 2\n",
    "\n",
    "for p in data:\n",
    "    print(\"point = \", p)\n",
    "    pdf_i = []\n",
    "\n",
    "    for j in range(k):\n",
    "        # P(X_i | S_j)\n",
    "        pdf_i.append(norm.pdf(p, mean[j], var[j]))\n",
    "        print(\"probability of observing that point if it came from cluster \" + str(j) + \" = \", pdf_i[j])\n",
    "        # P(S_j) already computed\n",
    "        prob_s[j]\n",
    "\n",
    "    # P(X_i) = P(S_0)P(X_i | S_0) + P(S_1)P(X_i | S_1)\n",
    "    prob_x = prob_s[0] * pdf_i[0] + prob_s[1] * pdf_i[1]\n",
    "\n",
    "    # P(S_j | X_i) = P(X_i | S_j)P(S_j) / P(X_i)\n",
    "    prob_s0_x.append( ... )\n",
    "    prob_s1_x.append( ... )\n",
    "\n",
    "probs = zip(data, prob_s0_x, prob_s1_x)\n",
    "for p in probs:\n",
    "    print(p[0])\n",
    "    print(\"Probability of coming from S_1 = \" + str(p[1]))\n",
    "    print(\"Probability of coming from S_2 = \" + str(p[2]))\n",
    "    print()\n"
   ]
  },
  {
   "cell_type": "markdown",
   "metadata": {},
   "source": [
    "f) Having computed `P(S_j | X_i)`, update the estimates of `mean_j`, `var_j`, and `P(S_j)`. How different are these values from the original ones you got from K means? briefly comment."
   ]
  },
  {
   "cell_type": "code",
   "execution_count": null,
   "metadata": {},
   "outputs": [],
   "source": [
    "prob_c = [sum(prob_s0_x)/ len(prob_s0_x), ... ]\n",
    "mean = [sum([x[0] * x[1] for x in zip(prob_s0_x, data)]) / sum(prob_s0_x), ... ]\n",
    "var = [ ... , ... ]\n",
    "\n",
    "print(\"P(S_1) = \" + str(prob_s[0]) + \",  P(S_2) = \" + str(prob_s[1]))\n",
    "print(\"mean_1 = \" + str(mean[0]) + \",  mean_2 = \" + str(mean[1]))\n",
    "print(\"var_1 = \" + str(var[0]) + \",  var_2 = \" + str(var[1]))"
   ]
  },
  {
   "cell_type": "markdown",
   "metadata": {},
   "source": []
  },
  {
   "cell_type": "markdown",
   "metadata": {},
   "source": [
    "g) Update `P(S_j | X_i)`. Comment on any differences or lack thereof you observe."
   ]
  },
  {
   "cell_type": "code",
   "execution_count": null,
   "metadata": {},
   "outputs": [],
   "source": []
  },
  {
   "cell_type": "markdown",
   "metadata": {},
   "source": []
  },
  {
   "cell_type": "markdown",
   "metadata": {},
   "source": [
    "h) Use `P(S_j | X_i)` to create a hard assignment - label each point as belonging to a specific cluster (0 or 1)"
   ]
  },
  {
   "cell_type": "code",
   "execution_count": null,
   "metadata": {},
   "outputs": [],
   "source": []
  }
 ],
 "metadata": {
  "kernelspec": {
   "display_name": "Python 3",
   "language": "python",
   "name": "python3"
  },
  "language_info": {
   "codemirror_mode": {
    "name": "ipython",
    "version": 3
   },
   "file_extension": ".py",
   "mimetype": "text/x-python",
   "name": "python",
   "nbconvert_exporter": "python",
   "pygments_lexer": "ipython3",
   "version": "3.11.1"
  },
  "orig_nbformat": 4,
  "vscode": {
   "interpreter": {
    "hash": "e7370f93d1d0cde622a1f8e1c04877d8463912d04d973331ad4851f04de6915a"
   }
  }
 },
 "nbformat": 4,
 "nbformat_minor": 2
}
