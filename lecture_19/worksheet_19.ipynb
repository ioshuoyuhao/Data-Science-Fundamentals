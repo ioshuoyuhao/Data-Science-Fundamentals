{
 "cells": [
  {
   "attachments": {},
   "cell_type": "markdown",
   "metadata": {},
   "source": [
    "# Worksheet 19\n",
    "\n",
    "Name:  \n",
    "UID: \n",
    "\n",
    "### Topics\n",
    "\n",
    "- Linear Model Evaluation\n",
    "\n",
    "## Linear Model Evaluation\n",
    "\n",
    "Notice that R^2 only increases with the number of explanatory variables used. Hence the need for an adjusted R^2 that penalizes for insignificant explanatory variables."
   ]
  },
  {
   "cell_type": "code",
   "execution_count": null,
   "metadata": {},
   "outputs": [],
   "source": [
    "import numpy as np\n",
    "from sklearn.linear_model import LinearRegression\n",
    "from sklearn.preprocessing import PolynomialFeatures\n",
    "\n",
    "SAMPLE_SIZE = 100\n",
    "beta = [1, 5]\n",
    "X = -10.0 + 10.0 * np.random.random(SAMPLE_SIZE)\n",
    "Y = beta[0] + beta[1] * X + np.random.randn(SAMPLE_SIZE)\n",
    "\n",
    "for i in range(1, 15):\n",
    "    X_transform = PolynomialFeatures(degree=i, include_bias=False).fit_transform(X.reshape(-1, 1))\n",
    "    model = LinearRegression()\n",
    "    model.fit(X_transform, Y)\n",
    "    print(model.score(X_transform, Y))"
   ]
  },
  {
   "attachments": {},
   "cell_type": "markdown",
   "metadata": {},
   "source": [
    "a) Hypothesis Testing Sandbox (follow along in class) [Notes](https://medium.com/@gallettilance/hypothesis-testing-almost-everything-you-need-to-know-ce812ded50b)"
   ]
  },
  {
   "cell_type": "code",
   "execution_count": 20,
   "metadata": {},
   "outputs": [
    {
     "name": "stdout",
     "output_type": "stream",
     "text": [
      "0.31249999999999983\n",
      "[0, 1, 0, 1, 0]\n",
      "0.31249999999999983\n"
     ]
    },
    {
     "data": {
      "image/png": "[encoded data removed]",
      "text/plain": [
       "<Figure size 640x480 with 1 Axes>"
      ]
     },
     "metadata": {},
     "output_type": "display_data"
    }
   ],
   "source": [
    "import numpy as np\n",
    "from scipy.stats import binom\n",
    "import matplotlib.pyplot as plt\n",
    "\n",
    "flips = [1, 0, 0, 1, 0]\n",
    "\n",
    "def num_successes(flips):\n",
    "    return sum(flips)\n",
    "\n",
    "print(binom.pmf(num_successes(flips), len(flips), 1/2))\n",
    "\n",
    "SAMPLE_SIZE = 5\n",
    "flips = [np.random.choice([0, 1]) for _ in range(SAMPLE_SIZE)]\n",
    "print(flips)\n",
    "print(binom.pmf(num_successes(flips), SAMPLE_SIZE, 1/2))\n",
    "\n",
    "p_est = []\n",
    "\n",
    "for _ in range(1000):\n",
    "    flips = [np.random.choice([0, 1]) for _ in range(SAMPLE_SIZE)]\n",
    "    p_est.append(sum(flips) / SAMPLE_SIZE)\n",
    "\n",
    "fig, ax = plt.subplots()\n",
    "_, bins, patches = ax.hist(p_est, bins=SAMPLE_SIZE + 1)\n",
    "p = np.digitize([2/5], bins)\n",
    "patches[p[0]-1].set_facecolor('r')\n",
    "ax.bar_label(patches)\n",
    "plt.show()"
   ]
  },
  {
   "cell_type": "markdown",
   "metadata": {},
   "source": [
    "b) Plot a data set and fitted line through the point when there is no relationship between X and y."
   ]
  },
  {
   "cell_type": "code",
   "execution_count": 22,
   "metadata": {},
   "outputs": [
    {
     "data": {
      "image/png": "[encoded data removed]",
      "text/plain": [
       "<Figure size 432x288 with 1 Axes>"
      ]
     },
     "metadata": {
      "needs_background": "light"
     },
     "output_type": "display_data"
    }
   ],
   "source": [
    "import numpy as np\n",
    "import matplotlib.pyplot as plt\n",
    "\n",
    "SAMPLE_SIZE = 10\n",
    "\n",
    "xlin = -1.0 + 1.0 * np.random.random(SAMPLE_SIZE)\n",
    "y = ... + np.random.randn(SAMPLE_SIZE)\n",
    "\n",
    "intercept = np.ones(np.shape(xlin)[0])\n",
    "X = np.array([intercept, xlin]).T\n",
    "beta = ...\n",
    "\n",
    "xplot = np.linspace(-1,1,20)\n",
    "yestplot = ...\n",
    "plt.plot(xplot, yestplot,'b-',lw=2)\n",
    "plt.plot(xlin, y,'ro',markersize=4)\n",
    "plt.show()"
   ]
  },
  {
   "cell_type": "markdown",
   "metadata": {},
   "source": [
    "c) Using the above code, plot a histogram of the parameter estimates for the slope after generating `1000` independent datasets. Comment on what the plot means. Increase the sample size to see what happens to the plot. Explain."
   ]
  },
  {
   "cell_type": "code",
   "execution_count": null,
   "metadata": {},
   "outputs": [],
   "source": [
    "beta_hist = []\n",
    "for _ in range(1000):\n",
    "    ...\n",
    "\n",
    "fig, ax = plt.subplots()\n",
    "ax.hist(..., bins=100, density=True)\n",
    "plt.show()"
   ]
  },
  {
   "cell_type": "markdown",
   "metadata": {},
   "source": []
  },
  {
   "cell_type": "markdown",
   "metadata": {},
   "source": [
    "d) We know that:\n",
    "\n",
    "$$\\hat\\beta-\\beta \\sim \\mathcal{N}(0,\\sigma^2 (X^TX)^{-1})$$\n",
    "\n",
    "thus for each component $k$ of $\\hat\\beta$ (here there are only two - one slope and one intercept)\n",
    "\n",
    "$$\\hat\\beta_k -\\beta_k \\sim \\mathcal{N}(0, \\sigma^2 S_{kk})$$\n",
    "\n",
    "where $S_{kk}$ is the $k^\\text{th}$ diagonal element of $(X^TX)^{-1}$. Thus, we know that \n",
    "\n",
    "$$z_k = \\frac{\\hat\\beta_k -\\beta_k}{\\sqrt{\\sigma^2 S_{kk}}} \\sim \\mathcal{N}(0,1)$$\n",
    "\n",
    "Verify that this is the case through a simulation and compare it to the standard normal pdf by plotting it on top of the histogram."
   ]
  },
  {
   "cell_type": "code",
   "execution_count": null,
   "metadata": {},
   "outputs": [],
   "source": [
    "from scipy.stats import norm\n",
    "\n",
    "beta_hist = []\n",
    "for _ in range(1000):\n",
    "    ...\n",
    "\n",
    "xs = np.linspace(-10,10,1000)\n",
    "fig, ax = plt.subplots()\n",
    "ax.hist(beta_hist, bins=100, density=True)\n",
    "ax.plot(xs, norm.pdf(...), color='green')\n",
    "plt.show()"
   ]
  },
  {
   "cell_type": "markdown",
   "metadata": {},
   "source": [
    "e) Above we normalized $\\hat\\beta$ by subtracting the mean and dividing by the standard deviation. While we know that the estimate of beta is an unbiased estimator, we don't know the standard deviation. So in practice when doing a hypothesis test where we want to assume that $\\beta = 0$, we can simply use $\\hat\\beta$ in the numerator. However we don't know the standard deviation and need to use an unbiased estimate of the standard deviation instead. This estimate is the standard error `s`\n",
    "\n",
    "$$s = \\sqrt{\\frac{RSS}{n - p}}$$\n",
    "\n",
    "where p is the number of parameters beta (here there are 2 - one slope and one intercept). This normalized $\\hat\\beta$ can be shown to follow a t-distribution with `n-p` degrees of freedom. Verify this is the case with a simulation."
   ]
  },
  {
   "cell_type": "code",
   "execution_count": null,
   "metadata": {},
   "outputs": [],
   "source": [
    "from scipy.stats import t\n",
    "\n",
    "def standard_error(ytrue, ypred):\n",
    "    ...\n",
    "\n",
    "beta_hist = []\n",
    "for _ in range(1000):\n",
    "    ...\n",
    "\n",
    "xs = np.linspace(-10,10,1000)\n",
    "fig, ax = plt.subplots()\n",
    "ax.hist(beta_hist, bins=100, density=True)\n",
    "ax.plot(xs, t.pdf(xs, SAMPLE_SIZE - 2), color='red')\n",
    "plt.show()"
   ]
  },
  {
   "cell_type": "markdown",
   "metadata": {},
   "source": [
    "f) You are given the following dataset:"
   ]
  },
  {
   "cell_type": "code",
   "execution_count": 8,
   "metadata": {},
   "outputs": [
    {
     "name": "stdout",
     "output_type": "stream",
     "text": [
      "[0.50155603 1.19902827]\n"
     ]
    },
    {
     "data": {
      "image/png": "[encoded data removed]",
      "text/plain": [
       "<Figure size 640x480 with 1 Axes>"
      ]
     },
     "metadata": {},
     "output_type": "display_data"
    }
   ],
   "source": [
    "import numpy as np\n",
    "import matplotlib.pyplot as plt\n",
    "\n",
    "x = np.array([-0.1920605, -0.11290798, -0.56434374, -0.67052057, -0.19233284, -0.42403586, -0.8114285, -0.38986946, -0.37384161, -0.50930229])\n",
    "y = np.array([-0.34063108, -0.33409286, 0.34245857, 0.11062295, 0.76682389, 0.86592388, -1.68912015, -2.01463592, 1.61798563, 0.60557414])\n",
    "\n",
    "intercept = np.ones(np.shape(x)[0])\n",
    "X = np.array([intercept, x]).T\n",
    "beta_hat = np.linalg.inv(X.T @ X) @ X.T @ y\n",
    "\n",
    "print(beta_hat)\n",
    "\n",
    "xplot = np.linspace(-1,.25,20)\n",
    "yestplot = beta_hat[0] + beta_hat[1] * xplot\n",
    "plt.plot(xplot, yestplot,'b-',lw=2)\n",
    "plt.plot(x, y,'ro',markersize=4)\n",
    "plt.show()\n"
   ]
  },
  {
   "cell_type": "markdown",
   "metadata": {},
   "source": [
    "what is the probability of observing a dataset at least as extreme as the above assuming $\\beta = 0$ ?"
   ]
  },
  {
   "cell_type": "code",
   "execution_count": null,
   "metadata": {},
   "outputs": [],
   "source": []
  }
 ],
 "metadata": {
  "kernelspec": {
   "display_name": "Python 3",
   "language": "python",
   "name": "python3"
  },
  "language_info": {
   "name": "python",
   "version": "3.11.1"
  },
  "orig_nbformat": 4,
  "vscode": {
   "interpreter": {
    "hash": "e7370f93d1d0cde622a1f8e1c04877d8463912d04d973331ad4851f04de6915a"
   }
  }
 },
 "nbformat": 4,
 "nbformat_minor": 2
}
